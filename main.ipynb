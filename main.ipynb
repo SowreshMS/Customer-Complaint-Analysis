{
 "cells": [
  {
   "cell_type": "markdown",
   "id": "37cb5659-c4cb-4232-bf61-b722691f103d",
   "metadata": {},
   "source": [
    "Questions: \n",
    "\n",
    "Why are customers complaning?\n",
    "How can we reduce customer complaints?\n",
    "How can we prevent disputes?"
   ]
  },
  {
   "cell_type": "markdown",
   "id": "d3a60ade-ca8e-4206-98d3-6e508fd7efd6",
   "metadata": {},
   "source": [
    "Plan for this project:\n",
    "\n",
    "Do operations using pyspark and pandas:\n",
    "- time the operations and keep track of memory usage\n",
    "- show that memory and time usage was reduced with using pyspark over pandas\n",
    "\n",
    "\n",
    "Clean data:\n",
    "- handle null values\n",
    "- remove repeats\n",
    "- converting datatypes\n",
    "- handling outliers (either keep or remove)\n",
    "\n",
    "Perform some EDA\n",
    "- determine nature of customer complaints\n",
    "- try to find other useful information using visuals\n",
    "  \n",
    "- visuals to figure out distrubtions of variables and calculate statistical measures (showcause descriptive statistical knowledge)\n",
    "- make hypothesis and use statistical tests to come to conclusions (showcase inferental statistical knowledge)\n",
    "\n",
    "- remove certain columns\n",
    "- feature engineering (for example handling the complains column)\n",
    "\n",
    "Create a dashboard in PowerBI"
   ]
  },
  {
   "cell_type": "code",
   "execution_count": 1,
   "id": "83c358df-8288-4d19-bcd4-1192a4e85581",
   "metadata": {},
   "outputs": [],
   "source": [
    "import time \n",
    "import matplotlib.pyplot as plt\n",
    "from pyspark.sql import SparkSession\n",
    "import pandas as pd\n",
    "import numpy as np\n",
    "import seaborn as sns"
   ]
  },
  {
   "cell_type": "markdown",
   "id": "066fa4af-aa81-46dd-bfd9-0a3f3abab0a1",
   "metadata": {
    "jp-MarkdownHeadingCollapsed": true
   },
   "source": [
    "# Using Spark"
   ]
  },
  {
   "cell_type": "code",
   "execution_count": 9,
   "id": "21b78428-2799-41ab-a75f-e1d2d3898e68",
   "metadata": {
    "scrolled": true
   },
   "outputs": [
    {
     "name": "stdout",
     "output_type": "stream",
     "text": [
      "+-------------+--------------------+--------------------+--------------------+--------------------+----------------------------+-----------------------+--------------------+-----+--------+----+--------------------------+-------------+--------------------+----------------------------+----------------+------------------+------------+\n",
      "|Date received|             Product|         Sub-product|               Issue|           Sub-issue|Consumer complaint narrative|Company public response|             Company|State|ZIP code|Tags|Consumer consent provided?|Submitted via|Date sent to company|Company response to consumer|Timely response?|Consumer disputed?|Complaint ID|\n",
      "+-------------+--------------------+--------------------+--------------------+--------------------+----------------------------+-----------------------+--------------------+-----+--------+----+--------------------------+-------------+--------------------+----------------------------+----------------+------------------+------------+\n",
      "|   2024-06-20|Credit reporting ...|    Credit reporting|Improper use of y...|Reporting company...|                        NULL|                   NULL|Experian Informat...|   AZ|   85142|NULL|                      NULL|          Web|          2024-06-20|                 In progress|             Yes|               N/A|     9309148|\n",
      "|   2024-06-09|Credit reporting ...|    Credit reporting|Incorrect informa...|Account status in...|                        NULL|                   NULL|Early Warning Ser...|   MS|   39759|NULL|                      NULL|          Web|          2024-06-09|        Closed with expla...|             Yes|               N/A|     9212410|\n",
      "|   2024-06-09|Credit reporting ...|    Credit reporting|Problem with a co...|Their investigati...|                        NULL|                   NULL|CAPITAL ONE FINAN...|   CA|   92376|NULL|                      NULL|          Web|          2024-06-09|                 In progress|             Yes|               N/A|     9215331|\n",
      "|   2024-06-09|Checking or savin...|    Checking account| Managing an account|      Banking errors|                        NULL|                   NULL|WELLS FARGO & COM...|   TX|   75051|NULL|                      NULL|          Web|          2024-06-09|                 In progress|             Yes|               N/A|     9212589|\n",
      "|   2024-06-09|Credit reporting ...|    Credit reporting|Problem with a co...|Their investigati...|                        NULL|                   NULL|CAPITAL ONE FINAN...|   GA|   30265|NULL|                      NULL|          Web|          2024-06-09|                 In progress|             Yes|               N/A|     9212696|\n",
      "|   2024-06-07|Credit reporting ...|    Credit reporting|Improper use of y...|Reporting company...|                        NULL|                   NULL|Experian Informat...|   IL|   604XX|NULL|                      NULL|          Web|          2024-06-07|                 In progress|             Yes|               N/A|     9196188|\n",
      "|   2024-06-07|Credit reporting ...|    Credit reporting|Problem with a co...|Their investigati...|                        NULL|                   NULL|Experian Informat...|   SC|   29410|NULL|                      NULL|          Web|          2024-06-07|                 In progress|             Yes|               N/A|     9198148|\n",
      "|   2024-06-07|Credit reporting ...|    Credit reporting|Problem with a co...|Investigation too...|                        NULL|                   NULL|Experian Informat...|   KY|   42003|NULL|                      NULL|          Web|          2024-06-07|                 In progress|             Yes|               N/A|     9198276|\n",
      "|   2024-06-07|Credit reporting ...|    Credit reporting|Incorrect informa...|Personal informat...|                        NULL|                   NULL|Experian Informat...|   MD|   206XX|NULL|                      NULL|          Web|          2024-06-07|                 In progress|             Yes|               N/A|     9198279|\n",
      "|   2024-06-07|Credit reporting ...|    Credit reporting|Incorrect informa...|Information belon...|                        NULL|                   NULL|Experian Informat...|   TX|   77021|NULL|                      NULL|          Web|          2024-06-07|                 In progress|             Yes|               N/A|     9198283|\n",
      "|   2024-06-07|Credit reporting ...|    Credit reporting|Improper use of y...|Reporting company...|                        NULL|                   NULL|Experian Informat...|   NC|   28214|NULL|                      NULL|          Web|          2024-06-07|                 In progress|             Yes|               N/A|     9210840|\n",
      "|   2024-06-07|Credit reporting ...|    Credit reporting|Incorrect informa...|Information belon...|                        NULL|                   NULL|Experian Informat...|   PA|   18509|NULL|                      NULL|          Web|          2024-06-07|                 In progress|             Yes|               N/A|     9210843|\n",
      "|   2024-06-07|     Debt collection|       I do not know|Attempts to colle...|   Debt is not yours|                        NULL|                   NULL|Experian Informat...|   TX|   78641|NULL|                      NULL|          Web|          2024-06-07|                 In progress|             Yes|               N/A|     9210844|\n",
      "|   2024-06-07|Credit reporting ...|    Credit reporting|Incorrect informa...|Account status in...|                        NULL|                   NULL|Experian Informat...|   NY|   11710|NULL|                      NULL|          Web|          2024-06-07|                 In progress|             Yes|               N/A|     9210846|\n",
      "|   2024-06-07|Credit reporting ...|    Credit reporting|Improper use of y...|Reporting company...|                        NULL|                   NULL|Experian Informat...|   PA|   19136|NULL|                      NULL|          Web|          2024-06-07|                 In progress|             Yes|               N/A|     9210850|\n",
      "|   2024-06-07|Credit reporting ...|    Credit reporting|Problem with a co...|Their investigati...|                        NULL|                   NULL|Experian Informat...|   FL|   33756|NULL|                      NULL|          Web|          2024-06-07|                 In progress|             Yes|               N/A|     9204667|\n",
      "|   2024-06-07|Credit reporting ...|    Credit reporting|Incorrect informa...|Information belon...|                        NULL|                   NULL|Experian Informat...|   NC|   27597|NULL|                      NULL|          Web|          2024-06-07|                 In progress|             Yes|               N/A|     9191886|\n",
      "|   2024-06-07|Credit reporting ...|    Credit reporting|Incorrect informa...|Information belon...|                        NULL|                   NULL|Experian Informat...|   FL|   33137|NULL|                     Other|          Web|          2024-06-07|                 In progress|             Yes|               N/A|     9191887|\n",
      "|   2024-06-07|        Prepaid card|General-purpose p...|Problem with a pu...|Card company isn'...|                        NULL|                   NULL|REGIONS FINANCIAL...|   AR|   72315|NULL|                      NULL|          Web|          2024-06-07|                 In progress|             Yes|               N/A|     9191888|\n",
      "|   2024-06-20|Credit reporting ...|    Credit reporting|Incorrect informa...|Information belon...|                        NULL|                   NULL|TRANSUNION INTERM...|   PA|   19150|NULL|                      NULL|          Web|          2024-06-20|                 In progress|             Yes|               N/A|     9305428|\n",
      "+-------------+--------------------+--------------------+--------------------+--------------------+----------------------------+-----------------------+--------------------+-----+--------+----+--------------------------+-------------+--------------------+----------------------------+----------------+------------------+------------+\n",
      "only showing top 20 rows\n",
      "\n"
     ]
    }
   ],
   "source": [
    "# Initialize a Spark session\n",
    "spark = SparkSession.builder \\\n",
    "    .appName(\"CSV Loader\") \\\n",
    "    .getOrCreate()\n",
    "\n",
    "# Load the CSV file into a DataFrame\n",
    "spark_data = spark.read.csv('complaints.csv', header=True, inferSchema=True)\n",
    "\n",
    "# Show the first few rows of the DataFrame\n",
    "spark_data.show()"
   ]
  },
  {
   "cell_type": "code",
   "execution_count": 3,
   "id": "f23c2b19-1e4e-4733-b3ae-cd7c0ea48148",
   "metadata": {
    "scrolled": true
   },
   "outputs": [
    {
     "name": "stdout",
     "output_type": "stream",
     "text": [
      "+-------+--------------------+--------------------+--------------------+--------------------+--------------------+----------------------------+-----------------------+--------------------+--------------------+--------------------+--------------------+--------------------------+--------------------+--------------------+----------------------------+--------------------+--------------------+--------------------+\n",
      "|summary|       Date received|             Product|         Sub-product|               Issue|           Sub-issue|Consumer complaint narrative|Company public response|             Company|               State|            ZIP code|                Tags|Consumer consent provided?|       Submitted via|Date sent to company|Company response to consumer|    Timely response?|  Consumer disputed?|        Complaint ID|\n",
      "+-------+--------------------+--------------------+--------------------+--------------------+--------------------+----------------------------+-----------------------+--------------------+--------------------+--------------------+--------------------+--------------------------+--------------------+--------------------+----------------------------+--------------------+--------------------+--------------------+\n",
      "|  count|             8215518|             7131308|             6611869|             6640203|             5773556|                     2463884|                3067857|             5537088|             5489101|             5493472|             1230350|                   5220582|             5501250|             5061844|                     4925482|             4861091|             4823746|             4800750|\n",
      "|   mean|  1338.2843039319873|   5026.306921270605|  1051.4659645317545|   1318.506036036036|  49531.767375489246|           51332.79178342343|      50392.70279479043|   50848.23881433372|  50669.737587909796|  48050.216827115495|  52478.795168256256|         52577.02679810726|   5662000.256082796|   5167640.556385884|           4804043.772630737|   4618313.515545158|    4534964.78649612|   5363136.162108262|\n",
      "| stddev|  11521.982792544824|  104437.75710603732|  1057.4605164594109|   4489.583991230973|  29321.268647045643|           30516.40024327107|     30575.293659648163|   30897.26434015373|  30854.349099599258|  32527.695162814674|   81358.82787499222|         107268.3356451358|   2107049.206836563|   2361224.116007205|           2444771.172565232|   2530564.550496981|   2619528.706530146|   2586268.195405909|\n",
      "|    min|\\t\\t\\t\\t         ...|                    |                    |                  \\t|                    |                            |                       |                    |                    |                    |                    |                          |                    |                    |                            |                    |   AZ    XXXX  Pl...|                    |\n",
      "|    max|\\tThe victimizat...| whom I bank with...|” constitutes RES...|youarenotliablefo...|you are duly boun...|        •\\tSchool Loan se...|   yougetnoserviceth...| Lippman Recupero...|whileinforeclosur...|you could be next...|wrong birthrate. ...|       Lippman Recupero...|meaning if the in...|to suspend bank p...|        thepresenceofinfo...|they XXXX  you by...|so we cant help y...|numerous people w...|\n",
      "+-------+--------------------+--------------------+--------------------+--------------------+--------------------+----------------------------+-----------------------+--------------------+--------------------+--------------------+--------------------+--------------------------+--------------------+--------------------+----------------------------+--------------------+--------------------+--------------------+\n",
      "\n"
     ]
    }
   ],
   "source": [
    "data.describe().show()"
   ]
  },
  {
   "cell_type": "code",
   "execution_count": 47,
   "id": "c1a4fe3d-7ee9-4956-a01e-9444fe1c8b7d",
   "metadata": {},
   "outputs": [],
   "source": [
    "counts = spark_data.groupBy('State').count()"
   ]
  },
  {
   "cell_type": "code",
   "execution_count": 48,
   "id": "24a84245-ed92-4485-8673-3239ea818762",
   "metadata": {},
   "outputs": [
    {
     "ename": "KeyboardInterrupt",
     "evalue": "",
     "output_type": "error",
     "traceback": [
      "\u001b[1;31m---------------------------------------------------------------------------\u001b[0m",
      "\u001b[1;31mKeyboardInterrupt\u001b[0m                         Traceback (most recent call last)",
      "Cell \u001b[1;32mIn[48], line 1\u001b[0m\n\u001b[1;32m----> 1\u001b[0m df \u001b[38;5;241m=\u001b[39m \u001b[43mcounts\u001b[49m\u001b[38;5;241;43m.\u001b[39;49m\u001b[43mtoPandas\u001b[49m\u001b[43m(\u001b[49m\u001b[43m)\u001b[49m\n",
      "File \u001b[1;32m~\\AppData\\Local\\Programs\\Python\\Python39\\lib\\site-packages\\pyspark\\sql\\pandas\\conversion.py:202\u001b[0m, in \u001b[0;36mPandasConversionMixin.toPandas\u001b[1;34m(self)\u001b[0m\n\u001b[0;32m    199\u001b[0m             \u001b[38;5;28;01mraise\u001b[39;00m\n\u001b[0;32m    201\u001b[0m \u001b[38;5;66;03m# Below is toPandas without Arrow optimization.\u001b[39;00m\n\u001b[1;32m--> 202\u001b[0m rows \u001b[38;5;241m=\u001b[39m \u001b[38;5;28;43mself\u001b[39;49m\u001b[38;5;241;43m.\u001b[39;49m\u001b[43mcollect\u001b[49m\u001b[43m(\u001b[49m\u001b[43m)\u001b[49m\n\u001b[0;32m    203\u001b[0m \u001b[38;5;28;01mif\u001b[39;00m \u001b[38;5;28mlen\u001b[39m(rows) \u001b[38;5;241m>\u001b[39m \u001b[38;5;241m0\u001b[39m:\n\u001b[0;32m    204\u001b[0m     pdf \u001b[38;5;241m=\u001b[39m pd\u001b[38;5;241m.\u001b[39mDataFrame\u001b[38;5;241m.\u001b[39mfrom_records(\n\u001b[0;32m    205\u001b[0m         rows, index\u001b[38;5;241m=\u001b[39m\u001b[38;5;28mrange\u001b[39m(\u001b[38;5;28mlen\u001b[39m(rows)), columns\u001b[38;5;241m=\u001b[39m\u001b[38;5;28mself\u001b[39m\u001b[38;5;241m.\u001b[39mcolumns  \u001b[38;5;66;03m# type: ignore[arg-type]\u001b[39;00m\n\u001b[0;32m    206\u001b[0m     )\n",
      "File \u001b[1;32m~\\AppData\\Local\\Programs\\Python\\Python39\\lib\\site-packages\\pyspark\\sql\\dataframe.py:1262\u001b[0m, in \u001b[0;36mDataFrame.collect\u001b[1;34m(self)\u001b[0m\n\u001b[0;32m   1260\u001b[0m \u001b[38;5;28;01mwith\u001b[39;00m SCCallSiteSync(\u001b[38;5;28mself\u001b[39m\u001b[38;5;241m.\u001b[39m_sc):\n\u001b[0;32m   1261\u001b[0m     sock_info \u001b[38;5;241m=\u001b[39m \u001b[38;5;28mself\u001b[39m\u001b[38;5;241m.\u001b[39m_jdf\u001b[38;5;241m.\u001b[39mcollectToPython()\n\u001b[1;32m-> 1262\u001b[0m \u001b[38;5;28;01mreturn\u001b[39;00m \u001b[38;5;28;43mlist\u001b[39;49m\u001b[43m(\u001b[49m\u001b[43m_load_from_socket\u001b[49m\u001b[43m(\u001b[49m\u001b[43msock_info\u001b[49m\u001b[43m,\u001b[49m\u001b[43m \u001b[49m\u001b[43mBatchedSerializer\u001b[49m\u001b[43m(\u001b[49m\u001b[43mCPickleSerializer\u001b[49m\u001b[43m(\u001b[49m\u001b[43m)\u001b[49m\u001b[43m)\u001b[49m\u001b[43m)\u001b[49m\u001b[43m)\u001b[49m\n",
      "File \u001b[1;32m~\\AppData\\Local\\Programs\\Python\\Python39\\lib\\site-packages\\pyspark\\serializers.py:152\u001b[0m, in \u001b[0;36mFramedSerializer.load_stream\u001b[1;34m(self, stream)\u001b[0m\n\u001b[0;32m    150\u001b[0m \u001b[38;5;28;01mwhile\u001b[39;00m \u001b[38;5;28;01mTrue\u001b[39;00m:\n\u001b[0;32m    151\u001b[0m     \u001b[38;5;28;01mtry\u001b[39;00m:\n\u001b[1;32m--> 152\u001b[0m         \u001b[38;5;28;01myield\u001b[39;00m \u001b[38;5;28;43mself\u001b[39;49m\u001b[38;5;241;43m.\u001b[39;49m\u001b[43m_read_with_length\u001b[49m\u001b[43m(\u001b[49m\u001b[43mstream\u001b[49m\u001b[43m)\u001b[49m\n\u001b[0;32m    153\u001b[0m     \u001b[38;5;28;01mexcept\u001b[39;00m \u001b[38;5;167;01mEOFError\u001b[39;00m:\n\u001b[0;32m    154\u001b[0m         \u001b[38;5;28;01mreturn\u001b[39;00m\n",
      "File \u001b[1;32m~\\AppData\\Local\\Programs\\Python\\Python39\\lib\\site-packages\\pyspark\\serializers.py:166\u001b[0m, in \u001b[0;36mFramedSerializer._read_with_length\u001b[1;34m(self, stream)\u001b[0m\n\u001b[0;32m    165\u001b[0m \u001b[38;5;28;01mdef\u001b[39;00m \u001b[38;5;21m_read_with_length\u001b[39m(\u001b[38;5;28mself\u001b[39m, stream):\n\u001b[1;32m--> 166\u001b[0m     length \u001b[38;5;241m=\u001b[39m \u001b[43mread_int\u001b[49m\u001b[43m(\u001b[49m\u001b[43mstream\u001b[49m\u001b[43m)\u001b[49m\n\u001b[0;32m    167\u001b[0m     \u001b[38;5;28;01mif\u001b[39;00m length \u001b[38;5;241m==\u001b[39m SpecialLengths\u001b[38;5;241m.\u001b[39mEND_OF_DATA_SECTION:\n\u001b[0;32m    168\u001b[0m         \u001b[38;5;28;01mraise\u001b[39;00m \u001b[38;5;167;01mEOFError\u001b[39;00m\n",
      "File \u001b[1;32m~\\AppData\\Local\\Programs\\Python\\Python39\\lib\\site-packages\\pyspark\\serializers.py:594\u001b[0m, in \u001b[0;36mread_int\u001b[1;34m(stream)\u001b[0m\n\u001b[0;32m    593\u001b[0m \u001b[38;5;28;01mdef\u001b[39;00m \u001b[38;5;21mread_int\u001b[39m(stream):\n\u001b[1;32m--> 594\u001b[0m     length \u001b[38;5;241m=\u001b[39m \u001b[43mstream\u001b[49m\u001b[38;5;241;43m.\u001b[39;49m\u001b[43mread\u001b[49m\u001b[43m(\u001b[49m\u001b[38;5;241;43m4\u001b[39;49m\u001b[43m)\u001b[49m\n\u001b[0;32m    595\u001b[0m     \u001b[38;5;28;01mif\u001b[39;00m \u001b[38;5;129;01mnot\u001b[39;00m length:\n\u001b[0;32m    596\u001b[0m         \u001b[38;5;28;01mraise\u001b[39;00m \u001b[38;5;167;01mEOFError\u001b[39;00m\n",
      "File \u001b[1;32m~\\AppData\\Local\\Programs\\Python\\Python39\\lib\\socket.py:704\u001b[0m, in \u001b[0;36mSocketIO.readinto\u001b[1;34m(self, b)\u001b[0m\n\u001b[0;32m    702\u001b[0m \u001b[38;5;28;01mwhile\u001b[39;00m \u001b[38;5;28;01mTrue\u001b[39;00m:\n\u001b[0;32m    703\u001b[0m     \u001b[38;5;28;01mtry\u001b[39;00m:\n\u001b[1;32m--> 704\u001b[0m         \u001b[38;5;28;01mreturn\u001b[39;00m \u001b[38;5;28;43mself\u001b[39;49m\u001b[38;5;241;43m.\u001b[39;49m\u001b[43m_sock\u001b[49m\u001b[38;5;241;43m.\u001b[39;49m\u001b[43mrecv_into\u001b[49m\u001b[43m(\u001b[49m\u001b[43mb\u001b[49m\u001b[43m)\u001b[49m\n\u001b[0;32m    705\u001b[0m     \u001b[38;5;28;01mexcept\u001b[39;00m timeout:\n\u001b[0;32m    706\u001b[0m         \u001b[38;5;28mself\u001b[39m\u001b[38;5;241m.\u001b[39m_timeout_occurred \u001b[38;5;241m=\u001b[39m \u001b[38;5;28;01mTrue\u001b[39;00m\n",
      "\u001b[1;31mKeyboardInterrupt\u001b[0m: "
     ]
    }
   ],
   "source": [
    "df = counts.toPandas()"
   ]
  },
  {
   "cell_type": "code",
   "execution_count": 46,
   "id": "3d8f11f9-91a8-4b27-8db3-15b6f8fb8a84",
   "metadata": {},
   "outputs": [
    {
     "data": {
      "text/html": [
       "<div>\n",
       "<style scoped>\n",
       "    .dataframe tbody tr th:only-of-type {\n",
       "        vertical-align: middle;\n",
       "    }\n",
       "\n",
       "    .dataframe tbody tr th {\n",
       "        vertical-align: top;\n",
       "    }\n",
       "\n",
       "    .dataframe thead th {\n",
       "        text-align: right;\n",
       "    }\n",
       "</style>\n",
       "<table border=\"1\" class=\"dataframe\">\n",
       "  <thead>\n",
       "    <tr style=\"text-align: right;\">\n",
       "      <th></th>\n",
       "      <th>State</th>\n",
       "      <th>count</th>\n",
       "    </tr>\n",
       "  </thead>\n",
       "  <tbody>\n",
       "    <tr>\n",
       "      <th>0</th>\n",
       "      <td>2023-01-21</td>\n",
       "      <td>271</td>\n",
       "    </tr>\n",
       "    <tr>\n",
       "      <th>1</th>\n",
       "      <td>2022-10-05</td>\n",
       "      <td>311</td>\n",
       "    </tr>\n",
       "    <tr>\n",
       "      <th>2</th>\n",
       "      <td>2023-05-18</td>\n",
       "      <td>414</td>\n",
       "    </tr>\n",
       "    <tr>\n",
       "      <th>3</th>\n",
       "      <td>I was told I needed to pay a fee for somethin...</td>\n",
       "      <td>1</td>\n",
       "    </tr>\n",
       "    <tr>\n",
       "      <th>4</th>\n",
       "      <td>it's the only correspondence I've received re...</td>\n",
       "      <td>1</td>\n",
       "    </tr>\n",
       "  </tbody>\n",
       "</table>\n",
       "</div>"
      ],
      "text/plain": [
       "                                               State  count\n",
       "0                                         2023-01-21    271\n",
       "1                                         2022-10-05    311\n",
       "2                                         2023-05-18    414\n",
       "3   I was told I needed to pay a fee for somethin...      1\n",
       "4   it's the only correspondence I've received re...      1"
      ]
     },
     "execution_count": 46,
     "metadata": {},
     "output_type": "execute_result"
    }
   ],
   "source": [
    "df.head()"
   ]
  },
  {
   "cell_type": "code",
   "execution_count": 30,
   "id": "394f76ee-090a-441b-9892-6da708c2c5d3",
   "metadata": {},
   "outputs": [],
   "source": [
    "df = df.fillna('nan')"
   ]
  },
  {
   "cell_type": "code",
   "execution_count": 41,
   "id": "dc97d28f-979a-4b02-81cb-397d49e222f8",
   "metadata": {},
   "outputs": [
    {
     "data": {
      "text/plain": [
       "array([271, 311, 414, ...,   1,   1,   1], dtype=int64)"
      ]
     },
     "execution_count": 41,
     "metadata": {},
     "output_type": "execute_result"
    }
   ],
   "source": [
    "np.array(df['count'])"
   ]
  },
  {
   "cell_type": "code",
   "execution_count": 43,
   "id": "d71e8b35-9403-443a-a650-97a7f77800a8",
   "metadata": {},
   "outputs": [
    {
     "data": {
      "text/plain": [
       "array(['2023-01-21', '2022-10-05', '2023-05-18', ...,\n",
       "       ' \"\" Pursuant to your request', ' as well as individual incidents',\n",
       "       ' including \"\" whether there were any hidden fees \\'\\'. XXXX repeatedly stated that the account was totally free. He also told me that I would be given a {$150.00} bonus if I set up direct deposit. Based on his extensive information and answers'],\n",
       "      dtype=object)"
      ]
     },
     "execution_count": 43,
     "metadata": {},
     "output_type": "execute_result"
    }
   ],
   "source": [
    "df['State'].unique()"
   ]
  },
  {
   "cell_type": "code",
   "execution_count": null,
   "id": "e6db520a-5cc2-49f3-a345-d5633a1dba06",
   "metadata": {},
   "outputs": [],
   "source": [
    "start = time.time()\n",
    "plt.bar(df['State'].unique(), np.array(df['count']))\n",
    "print(time.time() - start)"
   ]
  },
  {
   "cell_type": "code",
   "execution_count": null,
   "id": "01a11321-4ed8-411c-876a-272d6612837b",
   "metadata": {},
   "outputs": [],
   "source": []
  },
  {
   "cell_type": "code",
   "execution_count": 2,
   "id": "61ebefbe-083d-47c8-9e1e-277d357376f6",
   "metadata": {},
   "outputs": [
    {
     "data": {
      "text/plain": [
       "Row(Date received='2024-06-20', Product='Credit reporting or other personal consumer reports', Sub-product='Credit reporting', Issue='Improper use of your report', Sub-issue='Reporting company used your report improperly', Consumer complaint narrative=None, Company public response=None, Company='Experian Information Solutions Inc.', State='AZ', ZIP code='85142', Tags=None, Consumer consent provided?=None, Submitted via='Web', Date sent to company='2024-06-20', Company response to consumer='In progress', Timely response?='Yes', Consumer disputed?='N/A', Complaint ID='9309148')"
      ]
     },
     "execution_count": 2,
     "metadata": {},
     "output_type": "execute_result"
    }
   ],
   "source": [
    "data.head()"
   ]
  },
  {
   "cell_type": "markdown",
   "id": "4fbe9a06-786d-44e9-96bf-38da80acb8c9",
   "metadata": {},
   "source": [
    "# Using Pandas"
   ]
  },
  {
   "cell_type": "code",
   "execution_count": 2,
   "id": "e9bd58af-2b35-46ac-9d79-9228ec17ad6f",
   "metadata": {},
   "outputs": [
    {
     "name": "stderr",
     "output_type": "stream",
     "text": [
      "\n",
      "KeyboardInterrupt\n",
      "\n"
     ]
    }
   ],
   "source": [
    "data = pd.read_csv('complaints.csv')\n",
    "data.head()"
   ]
  },
  {
   "cell_type": "code",
   "execution_count": 4,
   "id": "f770499d-7592-41f8-ac86-ae8c4d8f0b6c",
   "metadata": {
    "scrolled": true
   },
   "outputs": [
    {
     "name": "stdout",
     "output_type": "stream",
     "text": [
      "<class 'pandas.core.frame.DataFrame'>\n",
      "RangeIndex: 5492527 entries, 0 to 5492526\n",
      "Data columns (total 18 columns):\n",
      " #   Column                        Dtype \n",
      "---  ------                        ----- \n",
      " 0   Date received                 object\n",
      " 1   Product                       object\n",
      " 2   Sub-product                   object\n",
      " 3   Issue                         object\n",
      " 4   Sub-issue                     object\n",
      " 5   Consumer complaint narrative  object\n",
      " 6   Company public response       object\n",
      " 7   Company                       object\n",
      " 8   State                         object\n",
      " 9   ZIP code                      object\n",
      " 10  Tags                          object\n",
      " 11  Consumer consent provided?    object\n",
      " 12  Submitted via                 object\n",
      " 13  Date sent to company          object\n",
      " 14  Company response to consumer  object\n",
      " 15  Timely response?              object\n",
      " 16  Consumer disputed?            object\n",
      " 17  Complaint ID                  int64 \n",
      "dtypes: int64(1), object(17)\n",
      "memory usage: 754.3+ MB\n"
     ]
    }
   ],
   "source": [
    "data.info()"
   ]
  },
  {
   "cell_type": "markdown",
   "id": "7c87852c-a93c-4a35-bfe4-769aa7fe8b3c",
   "metadata": {},
   "source": [
    "In order to reduce memory usage and make this dataset easier to handle, we should normalize it\n",
    "Splitting this dataset up into many smaller datasets will make it easier to preprocess and analyze"
   ]
  },
  {
   "cell_type": "code",
   "execution_count": 3,
   "id": "a3ad6649-c116-4b2d-8db7-4342490ccc1c",
   "metadata": {
    "scrolled": true
   },
   "outputs": [
    {
     "data": {
      "text/plain": [
       "Date received                         0\n",
       "Product                               0\n",
       "Sub-product                      235295\n",
       "Issue                                 6\n",
       "Sub-issue                        739641\n",
       "Consumer complaint narrative    3575480\n",
       "Company public response         2842574\n",
       "Company                               0\n",
       "State                             46266\n",
       "ZIP code                          30226\n",
       "Tags                            4996793\n",
       "Consumer consent provided?      1061775\n",
       "Submitted via                         0\n",
       "Date sent to company                  0\n",
       "Company response to consumer         16\n",
       "Timely response?                      0\n",
       "Consumer disputed?              4724211\n",
       "Complaint ID                          0\n",
       "dtype: int64"
      ]
     },
     "execution_count": 3,
     "metadata": {},
     "output_type": "execute_result"
    }
   ],
   "source": [
    "data.isna().sum()"
   ]
  },
  {
   "cell_type": "raw",
   "id": "b9c58809-987f-47d9-a2dc-10903bb191df",
   "metadata": {},
   "source": [
    "Before normalizing our table, we have to put some temporary values for Null. We can handle the null values after normaling the table."
   ]
  },
  {
   "cell_type": "code",
   "execution_count": 44,
   "id": "f7ef858c-da0d-45dc-814a-960a56c27fcb",
   "metadata": {},
   "outputs": [],
   "source": [
    "data.fillna(\"Missing Value\", inplace=True)"
   ]
  },
  {
   "cell_type": "code",
   "execution_count": 4,
   "id": "8f68e72c-08f5-4022-8e2a-da9051955f97",
   "metadata": {
    "scrolled": true
   },
   "outputs": [
    {
     "data": {
      "text/plain": [
       "Date received                   0\n",
       "Product                         0\n",
       "Sub-product                     0\n",
       "Issue                           0\n",
       "Sub-issue                       0\n",
       "Consumer complaint narrative    0\n",
       "Company public response         0\n",
       "Company                         0\n",
       "State                           0\n",
       "ZIP code                        0\n",
       "Tags                            0\n",
       "Consumer consent provided?      0\n",
       "Submitted via                   0\n",
       "Date sent to company            0\n",
       "Company response to consumer    0\n",
       "Timely response?                0\n",
       "Consumer disputed?              0\n",
       "Complaint ID                    0\n",
       "dtype: int64"
      ]
     },
     "execution_count": 4,
     "metadata": {},
     "output_type": "execute_result"
    }
   ],
   "source": [
    "data.isna().sum()"
   ]
  },
  {
   "cell_type": "markdown",
   "id": "2caf67d3-b10b-4e0b-bede-f2aa6fd3c484",
   "metadata": {
    "jp-MarkdownHeadingCollapsed": true
   },
   "source": [
    "## Normalization"
   ]
  },
  {
   "cell_type": "markdown",
   "id": "4c58a06f-e8ab-4dd3-a8e9-63d36bbe69b8",
   "metadata": {},
   "source": [
    "Our normalization scheme will be as follows:"
   ]
  },
  {
   "cell_type": "markdown",
   "id": "e7299c11-2f9f-49e9-b00c-5cdd475a3667",
   "metadata": {},
   "source": [
    "Consumer Table:\n",
    "- Consumer ID\n",
    "- Consumer complaint narrative\n",
    "- Consumer consent provided?\n",
    "- Consumer disputed?\n",
    "\n",
    "Products Table:\n",
    "- Product ID\n",
    "- Product \n",
    "- Sub-product\n",
    "\n",
    "Complaint Table:\n",
    "- Complaint ID\n",
    "- Date recieved\n",
    "- Issue\n",
    "- Sub-issue\n",
    "- Tags\n",
    "- Submitted via\n",
    "- Date sent to company\n",
    "- Company response to consumer\n",
    "- Timely response?\n",
    "\n",
    "(Foriegn Keys)\n",
    "- Consumer ID\n",
    "- Company ID\n",
    "- Product ID"
   ]
  },
  {
   "cell_type": "code",
   "execution_count": 15,
   "id": "9ec173d0-f93e-4236-b862-e10d9119abe6",
   "metadata": {},
   "outputs": [],
   "source": [
    "# Create unique identifiers (IDs) for each table\n",
    "data['CustomerID'] = data.index\n",
    "data['ProductID'] = data.groupby(['Product', 'Sub-product']).ngroup()\n",
    "data['CompanyID'] = data.groupby(['Company', 'State']).ngroup()\n",
    "data['ComplaintID'] = data['Complaint ID']  \n",
    "\n",
    "# Create separate DataFrames for each table\n",
    "customer_data = data[['CustomerID', 'Consumer complaint narrative', 'Consumer consent provided?', 'Consumer disputed?', 'ZIP code']]\n",
    "product_data = data[['ProductID', 'Product', 'Sub-product']].drop_duplicates().reset_index(drop=True)\n",
    "complaint_data = data[['ComplaintID', 'Date received', 'Issue', 'Sub-issue', 'Tags', 'Submitted via', 'Date sent to company', 'Company response to consumer', 'Timely response?', 'CustomerID', 'ProductID', 'CompanyID']]\n",
    "company_data = data[['CompanyID', 'Company', 'Company public response', 'State']].drop_duplicates().reset_index(drop=True)\n",
    "\n",
    "# Save to new csv files\n",
    "customer_data.to_csv('customer_data.csv', index=False)\n",
    "product_data.to_csv('product_data.csv', index=False)\n",
    "complaint_data.to_csv('complaint_data.csv', index=False)\n",
    "company_data.to_csv('company_data.csv', index=False)\n"
   ]
  },
  {
   "cell_type": "markdown",
   "id": "6204ff31-ce37-4dfa-b0d1-d21458b692b8",
   "metadata": {},
   "source": [
    "Now lets calculate the amount of memory saved through normalization"
   ]
  },
  {
   "cell_type": "code",
   "execution_count": 34,
   "id": "0b81ade4-0703-4f07-ac55-e10afa592c81",
   "metadata": {},
   "outputs": [],
   "source": [
    "normalized_tables = ((customer_data.memory_usage(deep=True).sum() + complaint_data.memory_usage(deep=True).sum() + product_data.memory_usage(deep=True).sum() + company_data.memory_usage(deep=True).sum()) / (1024 ** 3)) "
   ]
  },
  {
   "cell_type": "code",
   "execution_count": 38,
   "id": "3a58b738-9c81-48cd-8af2-16930bbc2580",
   "metadata": {},
   "outputs": [
    {
     "data": {
      "text/plain": [
       "6.485530646517873"
      ]
     },
     "execution_count": 38,
     "metadata": {},
     "output_type": "execute_result"
    }
   ],
   "source": [
    "normalized_tables"
   ]
  },
  {
   "cell_type": "code",
   "execution_count": 45,
   "id": "40757bc7-eb8c-483b-8c2b-edc39690959e",
   "metadata": {},
   "outputs": [],
   "source": [
    "original_table = (data.memory_usage(deep=True).sum() / (1024 ** 3))"
   ]
  },
  {
   "cell_type": "code",
   "execution_count": 46,
   "id": "d06a9fe1-227d-468f-80b5-c82edfc5bb68",
   "metadata": {},
   "outputs": [
    {
     "data": {
      "text/plain": [
       "8.4986142963171"
      ]
     },
     "execution_count": 46,
     "metadata": {},
     "output_type": "execute_result"
    }
   ],
   "source": [
    "original_table"
   ]
  },
  {
   "cell_type": "code",
   "execution_count": 47,
   "id": "e6607690-c03d-4a14-8bc0-e8c30cd8ed33",
   "metadata": {},
   "outputs": [
    {
     "data": {
      "text/plain": [
       "23.6871986374485"
      ]
     },
     "execution_count": 47,
     "metadata": {},
     "output_type": "execute_result"
    }
   ],
   "source": [
    "(original_table - normalized_tables) / original_table * 100"
   ]
  },
  {
   "cell_type": "raw",
   "id": "bd8fcbf3-8424-4a7e-9215-c303ae054ce3",
   "metadata": {},
   "source": [
    "~24% reduction in memory\n",
    "Now we can delete the original table from memory"
   ]
  },
  {
   "cell_type": "code",
   "execution_count": 49,
   "id": "55c81c52-3e9d-49ca-bb38-50cbb6696282",
   "metadata": {},
   "outputs": [],
   "source": [
    "del data"
   ]
  },
  {
   "cell_type": "markdown",
   "id": "545d359a-293e-4787-b443-da12d783bbd0",
   "metadata": {},
   "source": [
    "## Data Preprocessing"
   ]
  },
  {
   "cell_type": "code",
   "execution_count": 3,
   "id": "fe502dcb-bb39-48e0-8047-de22ebd06a4c",
   "metadata": {},
   "outputs": [],
   "source": [
    "customer_data = pd.read_csv('customer_data.csv')\n",
    "product_data = pd.read_csv('product_data.csv')\n",
    "complaint_data = pd.read_csv('complaint_data.csv')\n",
    "company_data = pd.read_csv('company_data.csv')"
   ]
  },
  {
   "cell_type": "code",
   "execution_count": 10,
   "id": "0ace4baa-31b8-427b-926d-d77466bbb1ec",
   "metadata": {},
   "outputs": [],
   "source": [
    "company_data = company_data.replace(\"Missing Value\", np.nan)\n",
    "product_data = product_data.replace(\"Missing Value\", np.nan)\n",
    "customer_data = customer_data.replace(\"Missing Value\", np.nan)\n",
    "complaint_data = complaint_data.replace(\"Missing Value\", np.nan)"
   ]
  },
  {
   "cell_type": "markdown",
   "id": "d9b1f491-511f-4c62-81d2-6cdb74e5124e",
   "metadata": {
    "jp-MarkdownHeadingCollapsed": true
   },
   "source": [
    "### info related to products"
   ]
  },
  {
   "cell_type": "raw",
   "id": "04eaae84-ce77-40b5-bfbd-7c04f429ce1b",
   "metadata": {},
   "source": [
    "Now its time to focus on null values\n",
    "Lets worry about the company and product tables first"
   ]
  },
  {
   "cell_type": "code",
   "execution_count": 11,
   "id": "9bed2358-6967-4b2e-8af8-7dc7bd02b5ec",
   "metadata": {},
   "outputs": [
    {
     "data": {
      "text/plain": [
       "ProductID      0\n",
       "Product        0\n",
       "Sub-product    6\n",
       "dtype: int64"
      ]
     },
     "execution_count": 11,
     "metadata": {},
     "output_type": "execute_result"
    }
   ],
   "source": [
    "product_data.isna().sum()"
   ]
  },
  {
   "cell_type": "code",
   "execution_count": 14,
   "id": "810107e4-8157-4a5c-bddf-2b1c01f1950b",
   "metadata": {},
   "outputs": [
    {
     "name": "stdout",
     "output_type": "stream",
     "text": [
      "<class 'pandas.core.frame.DataFrame'>\n",
      "RangeIndex: 126 entries, 0 to 125\n",
      "Data columns (total 3 columns):\n",
      " #   Column       Non-Null Count  Dtype \n",
      "---  ------       --------------  ----- \n",
      " 0   ProductID    126 non-null    int64 \n",
      " 1   Product      126 non-null    object\n",
      " 2   Sub-product  120 non-null    object\n",
      "dtypes: int64(1), object(2)\n",
      "memory usage: 3.1+ KB\n"
     ]
    }
   ],
   "source": [
    "product_data.info()"
   ]
  },
  {
   "cell_type": "code",
   "execution_count": 34,
   "id": "3b78a0ed-9cfc-418b-ae73-d8c449ad9bd6",
   "metadata": {},
   "outputs": [
    {
     "data": {
      "text/plain": [
       "array(['Credit reporting or other personal consumer reports',\n",
       "       'Checking or savings account', 'Debt collection', 'Prepaid card',\n",
       "       'Mortgage', 'Money transfer, virtual currency, or money service',\n",
       "       'Credit card', 'Vehicle loan or lease',\n",
       "       'Debt or credit management', 'Student loan',\n",
       "       'Payday loan, title loan, personal loan, or advance loan',\n",
       "       'Credit reporting, credit repair services, or other personal consumer reports',\n",
       "       'Bank account or service', 'Credit card or prepaid card',\n",
       "       'Payday loan, title loan, or personal loan', 'Credit reporting',\n",
       "       'Consumer Loan', 'Payday loan', 'Money transfers',\n",
       "       'Other financial service', 'Virtual currency'], dtype=object)"
      ]
     },
     "execution_count": 34,
     "metadata": {},
     "output_type": "execute_result"
    }
   ],
   "source": [
    "product_data.Product.unique()"
   ]
  },
  {
   "cell_type": "code",
   "execution_count": 33,
   "id": "034da503-89e4-40d4-a000-0a1bafce1581",
   "metadata": {},
   "outputs": [
    {
     "name": "stdout",
     "output_type": "stream",
     "text": [
      "     ProductID                                    Product Sub-product\n",
      "77          27                           Credit reporting         NaN\n",
      "80          17                                Credit card         NaN\n",
      "81           7                Checking or savings account         NaN\n",
      "89          90                                Payday loan         NaN\n",
      "122         92  Payday loan, title loan, or personal loan         NaN\n",
      "123         23                Credit card or prepaid card         NaN\n"
     ]
    }
   ],
   "source": [
    "null_mask = product_data.isnull()\n",
    "\n",
    "null_columns = product_data.loc[:, null_mask.any()]\n",
    "\n",
    "null_mask = product_data.isnull().any(axis=1)\n",
    "\n",
    "rows_with_nulls = product_data[null_mask]\n",
    "\n",
    "print(rows_with_nulls)"
   ]
  },
  {
   "cell_type": "code",
   "execution_count": 28,
   "id": "e1941404-38d4-471c-b74b-44c5ca8cfdbd",
   "metadata": {
    "scrolled": true
   },
   "outputs": [
    {
     "data": {
      "text/plain": [
       "array(['Credit reporting', 'Checking account', 'I do not know',\n",
       "       'General-purpose prepaid card',\n",
       "       'Home equity loan or line of credit (HELOC)',\n",
       "       'Mobile or digital wallet',\n",
       "       'General-purpose credit card or charge card', 'Other debt',\n",
       "       'FHA mortgage', 'Credit card debt', 'Savings account',\n",
       "       'Other banking product or service', 'Rental debt', 'Loan',\n",
       "       'Medical debt', 'Conventional home mortgage', 'Lease',\n",
       "       'Virtual currency', 'Debt settlement',\n",
       "       'Federal student loan servicing', 'Other personal consumer report',\n",
       "       'Personal line of credit', 'Gift card', 'Private student loan',\n",
       "       'VA mortgage', 'Telecommunications debt', 'Store credit card',\n",
       "       'Auto debt', 'Government benefit card',\n",
       "       'International money transfer', 'Check cashing service',\n",
       "       'Domestic (US) money transfer', 'Installment loan',\n",
       "       'Mortgage debt', 'Payday loan debt', 'Manufactured home loan',\n",
       "       'Private student loan debt', 'Other type of mortgage',\n",
       "       'CD (Certificate of Deposit)', 'Payday loan',\n",
       "       'Credit repair services', 'Title loan', 'USDA mortgage',\n",
       "       'Foreign currency exchange', 'Payroll card', 'Money order',\n",
       "       \"Money order, traveler's check or cashier's check\",\n",
       "       'Refund anticipation check', 'Reverse mortgage',\n",
       "       'Mortgage modification or foreclosure avoidance', 'Pawn loan',\n",
       "       'Federal student loan debt', \"Traveler's check or cashier's check\",\n",
       "       'Earned wage access', 'Other advances of future income',\n",
       "       'Tax refund anticipation loan or check',\n",
       "       'Conventional fixed mortgage', 'Other mortgage', 'Mobile wallet',\n",
       "       'Conventional adjustable mortgage (ARM)', 'Mortgage',\n",
       "       'Home equity loan or line of credit', nan,\n",
       "       'Student loan debt relief', 'Non-federal student loan',\n",
       "       'Federal student loan', 'Other bank product/service', 'Medical',\n",
       "       'Vehicle loan', 'Other (i.e. phone, health club, etc.)',\n",
       "       'Credit card', 'Second mortgage', 'Student prepaid card', 'Auto',\n",
       "       '(CD) Certificate of deposit', 'Check cashing', 'Vehicle lease',\n",
       "       'Credit repair', 'Cashing a check without an account',\n",
       "       'Gift or merchant card', 'General purpose card', 'ID prepaid card',\n",
       "       'Other special purpose card', 'Traveler’s/Cashier’s checks',\n",
       "       'Government benefit payment card', 'Transit card',\n",
       "       'Electronic Benefit Transfer / EBT card'], dtype=object)"
      ]
     },
     "execution_count": 28,
     "metadata": {},
     "output_type": "execute_result"
    }
   ],
   "source": [
    "product_data['Sub-product'].unique()"
   ]
  },
  {
   "cell_type": "raw",
   "id": "37055869-271c-4164-b178-028bb367410d",
   "metadata": {},
   "source": [
    "The subproducts missing probably means that the complaint had to do with the general product itself, and none of the specific sub-categories. In this case filling in these missing values with an \"Other\" category would make sense."
   ]
  },
  {
   "cell_type": "code",
   "execution_count": 35,
   "id": "a77aca04-c640-4196-aa51-1a398177b1d7",
   "metadata": {},
   "outputs": [],
   "source": [
    "product_data.fillna(\"Other\", inplace=True)"
   ]
  },
  {
   "cell_type": "markdown",
   "id": "68861564-6324-4c83-afd9-c0adebfbc535",
   "metadata": {},
   "source": [
    "### info related to company"
   ]
  },
  {
   "cell_type": "code",
   "execution_count": null,
   "id": "9a61998d-6306-4733-a877-8ba8f9b423b1",
   "metadata": {},
   "outputs": [],
   "source": [
    "company_data = pd.read_csv('company_data.csv')\n",
    "company_data = company_data.replace(\"Missing Value\", np.nan)"
   ]
  },
  {
   "cell_type": "code",
   "execution_count": 56,
   "id": "0bd9c768-6c4c-40f0-851e-373155b53198",
   "metadata": {},
   "outputs": [
    {
     "data": {
      "text/plain": [
       "CompanyID                      0\n",
       "Company                        0\n",
       "Company public response    58785\n",
       "State                       2533\n",
       "dtype: int64"
      ]
     },
     "execution_count": 56,
     "metadata": {},
     "output_type": "execute_result"
    }
   ],
   "source": [
    "company_data.isna().sum()"
   ]
  },
  {
   "cell_type": "code",
   "execution_count": 57,
   "id": "935956f4-73e7-4e40-9877-20f16aa5ca87",
   "metadata": {},
   "outputs": [
    {
     "name": "stdout",
     "output_type": "stream",
     "text": [
      "<class 'pandas.core.frame.DataFrame'>\n",
      "RangeIndex: 108969 entries, 0 to 108968\n",
      "Data columns (total 4 columns):\n",
      " #   Column                   Non-Null Count   Dtype \n",
      "---  ------                   --------------   ----- \n",
      " 0   CompanyID                108969 non-null  int64 \n",
      " 1   Company                  108969 non-null  object\n",
      " 2   Company public response  50184 non-null   object\n",
      " 3   State                    106436 non-null  object\n",
      "dtypes: int64(1), object(3)\n",
      "memory usage: 3.3+ MB\n"
     ]
    }
   ],
   "source": [
    "company_data.info()"
   ]
  },
  {
   "cell_type": "code",
   "execution_count": 40,
   "id": "e2248964-47ef-47ab-a59e-5a800d35466c",
   "metadata": {},
   "outputs": [
    {
     "data": {
      "text/plain": [
       "2.3245143114096667"
      ]
     },
     "execution_count": 40,
     "metadata": {},
     "output_type": "execute_result"
    }
   ],
   "source": [
    "company_data['State'].isna().sum() / company_data['State'].isna().count() * 100"
   ]
  },
  {
   "cell_type": "raw",
   "id": "c24cd0c1-faf2-46c9-a747-fb9225bbe64d",
   "metadata": {},
   "source": [
    "The fact that the states are missing is most likely a human error in the dataset. Since the null values for states only contribute to around 2% of the data, we can drop those rows."
   ]
  },
  {
   "cell_type": "code",
   "execution_count": 58,
   "id": "ea69ff5c-b302-4632-828b-cdafa0a3aefd",
   "metadata": {},
   "outputs": [],
   "source": [
    "company_data = company_data[company_data['State'].notna()]"
   ]
  },
  {
   "cell_type": "code",
   "execution_count": 59,
   "id": "1656eb62-f7c1-4436-ac69-81836e2ec9df",
   "metadata": {},
   "outputs": [
    {
     "data": {
      "text/plain": [
       "CompanyID                      0\n",
       "Company                        0\n",
       "Company public response    57322\n",
       "State                          0\n",
       "dtype: int64"
      ]
     },
     "execution_count": 59,
     "metadata": {},
     "output_type": "execute_result"
    }
   ],
   "source": [
    "company_data.isna().sum()"
   ]
  },
  {
   "cell_type": "code",
   "execution_count": 60,
   "id": "e24ee474-2b0f-47bc-884e-f7f0c76167bb",
   "metadata": {},
   "outputs": [
    {
     "data": {
      "text/plain": [
       "array([nan,\n",
       "       'Company has responded to the consumer and the CFPB and chooses not to provide a public response',\n",
       "       'Company believes it acted appropriately as authorized by contract or law',\n",
       "       'Company believes complaint represents an opportunity for improvement to better serve consumers',\n",
       "       \"Company believes the complaint provided an opportunity to answer consumer's questions\",\n",
       "       'Company disputes the facts presented in the complaint',\n",
       "       'Company believes the complaint is the result of a misunderstanding',\n",
       "       'Company believes complaint is the result of an isolated error',\n",
       "       \"Company can't verify or dispute the facts in the complaint\",\n",
       "       'Company believes complaint caused principally by actions of third party outside the control or direction of the company',\n",
       "       'Company chooses not to provide a public response',\n",
       "       'Company believes complaint relates to a discontinued policy or procedure'],\n",
       "      dtype=object)"
      ]
     },
     "execution_count": 60,
     "metadata": {},
     "output_type": "execute_result"
    }
   ],
   "source": [
    "company_data['Company public response'].unique()"
   ]
  },
  {
   "cell_type": "code",
   "execution_count": 61,
   "id": "e054ef75-76c2-4ec1-8ef4-ee393c2d1674",
   "metadata": {},
   "outputs": [
    {
     "data": {
      "text/plain": [
       "53.855838250216095"
      ]
     },
     "execution_count": 61,
     "metadata": {},
     "output_type": "execute_result"
    }
   ],
   "source": [
    "company_data['Company public response'].isna().sum() / company_data['Company public response'].isna().count() * 100"
   ]
  },
  {
   "cell_type": "raw",
   "id": "08caddcd-fa84-4007-9690-1dbf8305d13e",
   "metadata": {},
   "source": [
    "Since such a large number of values of are null, it would be hard to impute values. The best bet here might just be to drop the \"Company public response\" column all-together."
   ]
  },
  {
   "cell_type": "code",
   "execution_count": 62,
   "id": "9b5c57c3-45b9-4137-98b5-37e6418097a5",
   "metadata": {},
   "outputs": [],
   "source": [
    "company_data.drop(columns=[\"Company public response\"], inplace=True)"
   ]
  },
  {
   "cell_type": "code",
   "execution_count": 63,
   "id": "11361c2d-cb57-42a7-930b-0039d6c9e8fa",
   "metadata": {},
   "outputs": [
    {
     "data": {
      "text/plain": [
       "CompanyID    0\n",
       "Company      0\n",
       "State        0\n",
       "dtype: int64"
      ]
     },
     "execution_count": 63,
     "metadata": {},
     "output_type": "execute_result"
    }
   ],
   "source": [
    "company_data.isna().sum()"
   ]
  },
  {
   "cell_type": "code",
   "execution_count": 67,
   "id": "ab71ba50-6776-4693-89e8-b97e593530c0",
   "metadata": {},
   "outputs": [],
   "source": [
    "company_data = company_data.drop_duplicates().reset_index(drop=True)"
   ]
  },
  {
   "cell_type": "code",
   "execution_count": 68,
   "id": "b507397b-d2b2-489c-997c-9af7d4799b74",
   "metadata": {},
   "outputs": [
    {
     "name": "stdout",
     "output_type": "stream",
     "text": [
      "<class 'pandas.core.frame.DataFrame'>\n",
      "RangeIndex: 69594 entries, 0 to 69593\n",
      "Data columns (total 3 columns):\n",
      " #   Column     Non-Null Count  Dtype \n",
      "---  ------     --------------  ----- \n",
      " 0   CompanyID  69594 non-null  int64 \n",
      " 1   Company    69594 non-null  object\n",
      " 2   State      69594 non-null  object\n",
      "dtypes: int64(1), object(2)\n",
      "memory usage: 1.6+ MB\n"
     ]
    }
   ],
   "source": [
    "company_data.info()"
   ]
  },
  {
   "cell_type": "raw",
   "id": "ca410f35-821a-49f3-afac-d41cfc85492b",
   "metadata": {},
   "source": [
    "There is a chance that the company's public response might have affected customer complaints over time, but unfortunately we have a lot of data from each of the companies in various states missing."
   ]
  },
  {
   "cell_type": "markdown",
   "id": "a022bfbf-5149-41cb-bcda-28a8e46554ec",
   "metadata": {},
   "source": [
    "### info related to complaints"
   ]
  },
  {
   "cell_type": "code",
   "execution_count": 73,
   "id": "ae69a18c-06a6-444f-8ad1-1636e936a99e",
   "metadata": {},
   "outputs": [
    {
     "data": {
      "text/plain": [
       "ComplaintID                           0\n",
       "Issue                                 6\n",
       "Sub-issue                        739641\n",
       "Tags                            4996793\n",
       "Submitted via                         0\n",
       "Date sent to company                  0\n",
       "Company response to consumer         16\n",
       "Timely response?                      0\n",
       "CustomerID                            0\n",
       "ProductID                             0\n",
       "CompanyID                             0\n",
       "dtype: int64"
      ]
     },
     "execution_count": 73,
     "metadata": {},
     "output_type": "execute_result"
    }
   ],
   "source": [
    "complaint_data.isna().sum()"
   ]
  },
  {
   "cell_type": "raw",
   "id": "6a9d8825-801d-46f9-9fb9-8e760b342717",
   "metadata": {},
   "source": [
    "Just like with products before, Sub-Issue being null probably means that the issue was not specific enough"
   ]
  },
  {
   "cell_type": "code",
   "execution_count": 77,
   "id": "35fffcbc-1c60-440c-94d9-f805cd78206c",
   "metadata": {},
   "outputs": [],
   "source": [
    "complaint_data['Sub-issue'] = complaint_data['Sub-issue'].fillna('Other')"
   ]
  },
  {
   "cell_type": "code",
   "execution_count": 78,
   "id": "a2fb30f4-17c8-4d15-80d4-7298da4ca6bc",
   "metadata": {},
   "outputs": [
    {
     "data": {
      "text/plain": [
       "ComplaintID                           0\n",
       "Issue                                 6\n",
       "Sub-issue                             0\n",
       "Tags                            4996793\n",
       "Submitted via                         0\n",
       "Date sent to company                  0\n",
       "Company response to consumer         16\n",
       "Timely response?                      0\n",
       "CustomerID                            0\n",
       "ProductID                             0\n",
       "CompanyID                             0\n",
       "dtype: int64"
      ]
     },
     "execution_count": 78,
     "metadata": {},
     "output_type": "execute_result"
    }
   ],
   "source": [
    "complaint_data.isna().sum()"
   ]
  },
  {
   "cell_type": "code",
   "execution_count": 79,
   "id": "d6740955-604f-4daf-9497-d52789df3260",
   "metadata": {},
   "outputs": [],
   "source": [
    "complaint_data.drop(columns=['Tags'], inplace=True)"
   ]
  },
  {
   "cell_type": "code",
   "execution_count": 84,
   "id": "a62a31d7-9ef4-4dde-8566-608f05b045f9",
   "metadata": {},
   "outputs": [],
   "source": [
    "complaint_data = complaint_data[(complaint_data['Issue'].notna()) & (complaint_data['Company response to consumer'].notna())]"
   ]
  },
  {
   "cell_type": "code",
   "execution_count": 85,
   "id": "ec6073d9-86a3-4893-9e8c-cea2c6a7882d",
   "metadata": {},
   "outputs": [
    {
     "data": {
      "text/plain": [
       "ComplaintID                     0\n",
       "Issue                           0\n",
       "Sub-issue                       0\n",
       "Submitted via                   0\n",
       "Date sent to company            0\n",
       "Company response to consumer    0\n",
       "Timely response?                0\n",
       "CustomerID                      0\n",
       "ProductID                       0\n",
       "CompanyID                       0\n",
       "dtype: int64"
      ]
     },
     "execution_count": 85,
     "metadata": {},
     "output_type": "execute_result"
    }
   ],
   "source": [
    "complaint_data.isna().sum()"
   ]
  },
  {
   "cell_type": "code",
   "execution_count": 87,
   "id": "48783225-cd13-4c23-805f-eff90134e81d",
   "metadata": {},
   "outputs": [
    {
     "name": "stdout",
     "output_type": "stream",
     "text": [
      "<class 'pandas.core.frame.DataFrame'>\n",
      "Index: 5492505 entries, 2024-06-20 to 2012-05-01\n",
      "Data columns (total 10 columns):\n",
      " #   Column                        Dtype \n",
      "---  ------                        ----- \n",
      " 0   ComplaintID                   int64 \n",
      " 1   Issue                         object\n",
      " 2   Sub-issue                     object\n",
      " 3   Submitted via                 object\n",
      " 4   Date sent to company          object\n",
      " 5   Company response to consumer  object\n",
      " 6   Timely response?              object\n",
      " 7   CustomerID                    int64 \n",
      " 8   ProductID                     int64 \n",
      " 9   CompanyID                     int64 \n",
      "dtypes: int64(4), object(6)\n",
      "memory usage: 460.9+ MB\n"
     ]
    }
   ],
   "source": [
    "complaint_data.info()"
   ]
  },
  {
   "cell_type": "markdown",
   "id": "96981b8e-86d2-4ac7-8d87-d2ee4b5cf2f0",
   "metadata": {},
   "source": [
    "Almost all columns are categorical\n",
    "Lets handle the Dates first\n",
    "To better analyze features with respect to time of year, it will be easier to split up the date column into day, month, year columns"
   ]
  },
  {
   "cell_type": "code",
   "execution_count": 146,
   "id": "bb92b5c8-ebd7-497e-8fde-af50ce0626a0",
   "metadata": {
    "scrolled": true
   },
   "outputs": [
    {
     "data": {
      "text/html": [
       "<div>\n",
       "<style scoped>\n",
       "    .dataframe tbody tr th:only-of-type {\n",
       "        vertical-align: middle;\n",
       "    }\n",
       "\n",
       "    .dataframe tbody tr th {\n",
       "        vertical-align: top;\n",
       "    }\n",
       "\n",
       "    .dataframe thead th {\n",
       "        text-align: right;\n",
       "    }\n",
       "</style>\n",
       "<table border=\"1\" class=\"dataframe\">\n",
       "  <thead>\n",
       "    <tr style=\"text-align: right;\">\n",
       "      <th></th>\n",
       "      <th>ComplaintID</th>\n",
       "      <th>Date received</th>\n",
       "      <th>Issue</th>\n",
       "      <th>Sub-issue</th>\n",
       "      <th>Tags</th>\n",
       "      <th>Submitted via</th>\n",
       "      <th>Date sent to company</th>\n",
       "      <th>Company response to consumer</th>\n",
       "      <th>Timely response?</th>\n",
       "      <th>CustomerID</th>\n",
       "      <th>ProductID</th>\n",
       "      <th>CompanyID</th>\n",
       "    </tr>\n",
       "  </thead>\n",
       "  <tbody>\n",
       "    <tr>\n",
       "      <th>0</th>\n",
       "      <td>9309148</td>\n",
       "      <td>2024-06-20</td>\n",
       "      <td>Improper use of your report</td>\n",
       "      <td>Reporting company used your report improperly</td>\n",
       "      <td>Missing Value</td>\n",
       "      <td>Web</td>\n",
       "      <td>2024-06-20</td>\n",
       "      <td>In progress</td>\n",
       "      <td>Yes</td>\n",
       "      <td>0</td>\n",
       "      <td>28</td>\n",
       "      <td>24834</td>\n",
       "    </tr>\n",
       "    <tr>\n",
       "      <th>1</th>\n",
       "      <td>9212410</td>\n",
       "      <td>2024-06-09</td>\n",
       "      <td>Incorrect information on your report</td>\n",
       "      <td>Account status incorrect</td>\n",
       "      <td>Missing Value</td>\n",
       "      <td>Web</td>\n",
       "      <td>2024-06-09</td>\n",
       "      <td>Closed with explanation</td>\n",
       "      <td>Yes</td>\n",
       "      <td>1</td>\n",
       "      <td>28</td>\n",
       "      <td>23644</td>\n",
       "    </tr>\n",
       "    <tr>\n",
       "      <th>2</th>\n",
       "      <td>9215331</td>\n",
       "      <td>2024-06-09</td>\n",
       "      <td>Problem with a company's investigation into an...</td>\n",
       "      <td>Their investigation did not fix an error on yo...</td>\n",
       "      <td>Missing Value</td>\n",
       "      <td>Web</td>\n",
       "      <td>2024-06-09</td>\n",
       "      <td>In progress</td>\n",
       "      <td>Yes</td>\n",
       "      <td>2</td>\n",
       "      <td>28</td>\n",
       "      <td>11384</td>\n",
       "    </tr>\n",
       "    <tr>\n",
       "      <th>3</th>\n",
       "      <td>9212589</td>\n",
       "      <td>2024-06-09</td>\n",
       "      <td>Managing an account</td>\n",
       "      <td>Banking errors</td>\n",
       "      <td>Missing Value</td>\n",
       "      <td>Web</td>\n",
       "      <td>2024-06-09</td>\n",
       "      <td>In progress</td>\n",
       "      <td>Yes</td>\n",
       "      <td>3</td>\n",
       "      <td>6</td>\n",
       "      <td>69285</td>\n",
       "    </tr>\n",
       "    <tr>\n",
       "      <th>4</th>\n",
       "      <td>9212696</td>\n",
       "      <td>2024-06-09</td>\n",
       "      <td>Problem with a company's investigation into an...</td>\n",
       "      <td>Their investigation did not fix an error on yo...</td>\n",
       "      <td>Missing Value</td>\n",
       "      <td>Web</td>\n",
       "      <td>2024-06-09</td>\n",
       "      <td>In progress</td>\n",
       "      <td>Yes</td>\n",
       "      <td>4</td>\n",
       "      <td>28</td>\n",
       "      <td>11391</td>\n",
       "    </tr>\n",
       "    <tr>\n",
       "      <th>...</th>\n",
       "      <td>...</td>\n",
       "      <td>...</td>\n",
       "      <td>...</td>\n",
       "      <td>...</td>\n",
       "      <td>...</td>\n",
       "      <td>...</td>\n",
       "      <td>...</td>\n",
       "      <td>...</td>\n",
       "      <td>...</td>\n",
       "      <td>...</td>\n",
       "      <td>...</td>\n",
       "      <td>...</td>\n",
       "    </tr>\n",
       "    <tr>\n",
       "      <th>5492522</th>\n",
       "      <td>424184</td>\n",
       "      <td>2013-06-04</td>\n",
       "      <td>Billing disputes</td>\n",
       "      <td>Missing Value</td>\n",
       "      <td>Missing Value</td>\n",
       "      <td>Web</td>\n",
       "      <td>2013-06-05</td>\n",
       "      <td>Closed with explanation</td>\n",
       "      <td>Yes</td>\n",
       "      <td>5492522</td>\n",
       "      <td>17</td>\n",
       "      <td>8135</td>\n",
       "    </tr>\n",
       "    <tr>\n",
       "      <th>5492523</th>\n",
       "      <td>69708</td>\n",
       "      <td>2011-12-30</td>\n",
       "      <td>Identity theft / Fraud / Embezzlement</td>\n",
       "      <td>Missing Value</td>\n",
       "      <td>Missing Value</td>\n",
       "      <td>Referral</td>\n",
       "      <td>2011-12-30</td>\n",
       "      <td>Closed without relief</td>\n",
       "      <td>No</td>\n",
       "      <td>5492523</td>\n",
       "      <td>17</td>\n",
       "      <td>35781</td>\n",
       "    </tr>\n",
       "    <tr>\n",
       "      <th>5492524</th>\n",
       "      <td>390852</td>\n",
       "      <td>2013-04-23</td>\n",
       "      <td>Loan servicing, payments, escrow account</td>\n",
       "      <td>Missing Value</td>\n",
       "      <td>Missing Value</td>\n",
       "      <td>Referral</td>\n",
       "      <td>2013-04-23</td>\n",
       "      <td>Closed with explanation</td>\n",
       "      <td>Yes</td>\n",
       "      <td>5492524</td>\n",
       "      <td>77</td>\n",
       "      <td>8384</td>\n",
       "    </tr>\n",
       "    <tr>\n",
       "      <th>5492525</th>\n",
       "      <td>341832</td>\n",
       "      <td>2013-03-05</td>\n",
       "      <td>Application, originator, mortgage broker</td>\n",
       "      <td>Missing Value</td>\n",
       "      <td>Missing Value</td>\n",
       "      <td>Web</td>\n",
       "      <td>2013-03-05</td>\n",
       "      <td>Closed with explanation</td>\n",
       "      <td>Yes</td>\n",
       "      <td>5492525</td>\n",
       "      <td>71</td>\n",
       "      <td>52532</td>\n",
       "    </tr>\n",
       "    <tr>\n",
       "      <th>5492526</th>\n",
       "      <td>68298</td>\n",
       "      <td>2012-05-01</td>\n",
       "      <td>Privacy</td>\n",
       "      <td>Missing Value</td>\n",
       "      <td>Missing Value</td>\n",
       "      <td>Web</td>\n",
       "      <td>2012-05-01</td>\n",
       "      <td>Closed without relief</td>\n",
       "      <td>Yes</td>\n",
       "      <td>5492526</td>\n",
       "      <td>17</td>\n",
       "      <td>20682</td>\n",
       "    </tr>\n",
       "  </tbody>\n",
       "</table>\n",
       "<p>5492527 rows × 12 columns</p>\n",
       "</div>"
      ],
      "text/plain": [
       "         ComplaintID Date received  \\\n",
       "0            9309148    2024-06-20   \n",
       "1            9212410    2024-06-09   \n",
       "2            9215331    2024-06-09   \n",
       "3            9212589    2024-06-09   \n",
       "4            9212696    2024-06-09   \n",
       "...              ...           ...   \n",
       "5492522       424184    2013-06-04   \n",
       "5492523        69708    2011-12-30   \n",
       "5492524       390852    2013-04-23   \n",
       "5492525       341832    2013-03-05   \n",
       "5492526        68298    2012-05-01   \n",
       "\n",
       "                                                     Issue  \\\n",
       "0                              Improper use of your report   \n",
       "1                     Incorrect information on your report   \n",
       "2        Problem with a company's investigation into an...   \n",
       "3                                      Managing an account   \n",
       "4        Problem with a company's investigation into an...   \n",
       "...                                                    ...   \n",
       "5492522                                   Billing disputes   \n",
       "5492523              Identity theft / Fraud / Embezzlement   \n",
       "5492524           Loan servicing, payments, escrow account   \n",
       "5492525           Application, originator, mortgage broker   \n",
       "5492526                                            Privacy   \n",
       "\n",
       "                                                 Sub-issue           Tags  \\\n",
       "0            Reporting company used your report improperly  Missing Value   \n",
       "1                                 Account status incorrect  Missing Value   \n",
       "2        Their investigation did not fix an error on yo...  Missing Value   \n",
       "3                                           Banking errors  Missing Value   \n",
       "4        Their investigation did not fix an error on yo...  Missing Value   \n",
       "...                                                    ...            ...   \n",
       "5492522                                      Missing Value  Missing Value   \n",
       "5492523                                      Missing Value  Missing Value   \n",
       "5492524                                      Missing Value  Missing Value   \n",
       "5492525                                      Missing Value  Missing Value   \n",
       "5492526                                      Missing Value  Missing Value   \n",
       "\n",
       "        Submitted via Date sent to company Company response to consumer  \\\n",
       "0                 Web           2024-06-20                  In progress   \n",
       "1                 Web           2024-06-09      Closed with explanation   \n",
       "2                 Web           2024-06-09                  In progress   \n",
       "3                 Web           2024-06-09                  In progress   \n",
       "4                 Web           2024-06-09                  In progress   \n",
       "...               ...                  ...                          ...   \n",
       "5492522           Web           2013-06-05      Closed with explanation   \n",
       "5492523      Referral           2011-12-30        Closed without relief   \n",
       "5492524      Referral           2013-04-23      Closed with explanation   \n",
       "5492525           Web           2013-03-05      Closed with explanation   \n",
       "5492526           Web           2012-05-01        Closed without relief   \n",
       "\n",
       "        Timely response?  CustomerID  ProductID  CompanyID  \n",
       "0                    Yes           0         28      24834  \n",
       "1                    Yes           1         28      23644  \n",
       "2                    Yes           2         28      11384  \n",
       "3                    Yes           3          6      69285  \n",
       "4                    Yes           4         28      11391  \n",
       "...                  ...         ...        ...        ...  \n",
       "5492522              Yes     5492522         17       8135  \n",
       "5492523               No     5492523         17      35781  \n",
       "5492524              Yes     5492524         77       8384  \n",
       "5492525              Yes     5492525         71      52532  \n",
       "5492526              Yes     5492526         17      20682  \n",
       "\n",
       "[5492527 rows x 12 columns]"
      ]
     },
     "execution_count": 146,
     "metadata": {},
     "output_type": "execute_result"
    }
   ],
   "source": [
    "complaint_data"
   ]
  },
  {
   "cell_type": "code",
   "execution_count": 165,
   "id": "98866750-2d6c-4c85-a6e1-2a147958382e",
   "metadata": {},
   "outputs": [],
   "source": [
    "complaint_data['Date received'] = pd.to_datetime(complaint_data['Date received'])"
   ]
  },
  {
   "cell_type": "code",
   "execution_count": 166,
   "id": "3dfb50d6-e7de-4803-a933-f218abc1dd62",
   "metadata": {
    "scrolled": true
   },
   "outputs": [
    {
     "ename": "KeyError",
     "evalue": "'Date recieved'",
     "output_type": "error",
     "traceback": [
      "\u001b[1;31m---------------------------------------------------------------------------\u001b[0m",
      "\u001b[1;31mKeyError\u001b[0m                                  Traceback (most recent call last)",
      "File \u001b[1;32m~\\AppData\\Local\\Programs\\Python\\Python39\\lib\\site-packages\\pandas\\core\\indexes\\base.py:3805\u001b[0m, in \u001b[0;36mIndex.get_loc\u001b[1;34m(self, key)\u001b[0m\n\u001b[0;32m   3804\u001b[0m \u001b[38;5;28;01mtry\u001b[39;00m:\n\u001b[1;32m-> 3805\u001b[0m     \u001b[38;5;28;01mreturn\u001b[39;00m \u001b[38;5;28;43mself\u001b[39;49m\u001b[38;5;241;43m.\u001b[39;49m\u001b[43m_engine\u001b[49m\u001b[38;5;241;43m.\u001b[39;49m\u001b[43mget_loc\u001b[49m\u001b[43m(\u001b[49m\u001b[43mcasted_key\u001b[49m\u001b[43m)\u001b[49m\n\u001b[0;32m   3806\u001b[0m \u001b[38;5;28;01mexcept\u001b[39;00m \u001b[38;5;167;01mKeyError\u001b[39;00m \u001b[38;5;28;01mas\u001b[39;00m err:\n",
      "File \u001b[1;32mindex.pyx:167\u001b[0m, in \u001b[0;36mpandas._libs.index.IndexEngine.get_loc\u001b[1;34m()\u001b[0m\n",
      "File \u001b[1;32mindex.pyx:196\u001b[0m, in \u001b[0;36mpandas._libs.index.IndexEngine.get_loc\u001b[1;34m()\u001b[0m\n",
      "File \u001b[1;32mpandas\\\\_libs\\\\hashtable_class_helper.pxi:7081\u001b[0m, in \u001b[0;36mpandas._libs.hashtable.PyObjectHashTable.get_item\u001b[1;34m()\u001b[0m\n",
      "File \u001b[1;32mpandas\\\\_libs\\\\hashtable_class_helper.pxi:7089\u001b[0m, in \u001b[0;36mpandas._libs.hashtable.PyObjectHashTable.get_item\u001b[1;34m()\u001b[0m\n",
      "\u001b[1;31mKeyError\u001b[0m: 'Date recieved'",
      "\nThe above exception was the direct cause of the following exception:\n",
      "\u001b[1;31mKeyError\u001b[0m                                  Traceback (most recent call last)",
      "Cell \u001b[1;32mIn[166], line 1\u001b[0m\n\u001b[1;32m----> 1\u001b[0m complaint_date[\u001b[38;5;124m'\u001b[39m\u001b[38;5;124mDay recieved\u001b[39m\u001b[38;5;124m'\u001b[39m] \u001b[38;5;241m=\u001b[39m \u001b[43mcomplaint_data\u001b[49m\u001b[43m[\u001b[49m\u001b[38;5;124;43m'\u001b[39;49m\u001b[38;5;124;43mDate recieved\u001b[39;49m\u001b[38;5;124;43m'\u001b[39;49m\u001b[43m]\u001b[49m\u001b[38;5;241m.\u001b[39mdt\u001b[38;5;241m.\u001b[39mday\n\u001b[0;32m      2\u001b[0m complaint_date[\u001b[38;5;124m'\u001b[39m\u001b[38;5;124mMonth recieved\u001b[39m\u001b[38;5;124m'\u001b[39m] \u001b[38;5;241m=\u001b[39m complaint_data[\u001b[38;5;124m'\u001b[39m\u001b[38;5;124mMonth recieved\u001b[39m\u001b[38;5;124m'\u001b[39m]\u001b[38;5;241m.\u001b[39mdt\u001b[38;5;241m.\u001b[39mmonth\n\u001b[0;32m      3\u001b[0m complaint_date[\u001b[38;5;124m'\u001b[39m\u001b[38;5;124mYear recieved\u001b[39m\u001b[38;5;124m'\u001b[39m] \u001b[38;5;241m=\u001b[39m complaint_data[\u001b[38;5;124m'\u001b[39m\u001b[38;5;124mYear recieved\u001b[39m\u001b[38;5;124m'\u001b[39m]\u001b[38;5;241m.\u001b[39mdt\u001b[38;5;241m.\u001b[39myear\n",
      "File \u001b[1;32m~\\AppData\\Local\\Programs\\Python\\Python39\\lib\\site-packages\\pandas\\core\\frame.py:4102\u001b[0m, in \u001b[0;36mDataFrame.__getitem__\u001b[1;34m(self, key)\u001b[0m\n\u001b[0;32m   4100\u001b[0m \u001b[38;5;28;01mif\u001b[39;00m \u001b[38;5;28mself\u001b[39m\u001b[38;5;241m.\u001b[39mcolumns\u001b[38;5;241m.\u001b[39mnlevels \u001b[38;5;241m>\u001b[39m \u001b[38;5;241m1\u001b[39m:\n\u001b[0;32m   4101\u001b[0m     \u001b[38;5;28;01mreturn\u001b[39;00m \u001b[38;5;28mself\u001b[39m\u001b[38;5;241m.\u001b[39m_getitem_multilevel(key)\n\u001b[1;32m-> 4102\u001b[0m indexer \u001b[38;5;241m=\u001b[39m \u001b[38;5;28;43mself\u001b[39;49m\u001b[38;5;241;43m.\u001b[39;49m\u001b[43mcolumns\u001b[49m\u001b[38;5;241;43m.\u001b[39;49m\u001b[43mget_loc\u001b[49m\u001b[43m(\u001b[49m\u001b[43mkey\u001b[49m\u001b[43m)\u001b[49m\n\u001b[0;32m   4103\u001b[0m \u001b[38;5;28;01mif\u001b[39;00m is_integer(indexer):\n\u001b[0;32m   4104\u001b[0m     indexer \u001b[38;5;241m=\u001b[39m [indexer]\n",
      "File \u001b[1;32m~\\AppData\\Local\\Programs\\Python\\Python39\\lib\\site-packages\\pandas\\core\\indexes\\base.py:3812\u001b[0m, in \u001b[0;36mIndex.get_loc\u001b[1;34m(self, key)\u001b[0m\n\u001b[0;32m   3807\u001b[0m     \u001b[38;5;28;01mif\u001b[39;00m \u001b[38;5;28misinstance\u001b[39m(casted_key, \u001b[38;5;28mslice\u001b[39m) \u001b[38;5;129;01mor\u001b[39;00m (\n\u001b[0;32m   3808\u001b[0m         \u001b[38;5;28misinstance\u001b[39m(casted_key, abc\u001b[38;5;241m.\u001b[39mIterable)\n\u001b[0;32m   3809\u001b[0m         \u001b[38;5;129;01mand\u001b[39;00m \u001b[38;5;28many\u001b[39m(\u001b[38;5;28misinstance\u001b[39m(x, \u001b[38;5;28mslice\u001b[39m) \u001b[38;5;28;01mfor\u001b[39;00m x \u001b[38;5;129;01min\u001b[39;00m casted_key)\n\u001b[0;32m   3810\u001b[0m     ):\n\u001b[0;32m   3811\u001b[0m         \u001b[38;5;28;01mraise\u001b[39;00m InvalidIndexError(key)\n\u001b[1;32m-> 3812\u001b[0m     \u001b[38;5;28;01mraise\u001b[39;00m \u001b[38;5;167;01mKeyError\u001b[39;00m(key) \u001b[38;5;28;01mfrom\u001b[39;00m \u001b[38;5;21;01merr\u001b[39;00m\n\u001b[0;32m   3813\u001b[0m \u001b[38;5;28;01mexcept\u001b[39;00m \u001b[38;5;167;01mTypeError\u001b[39;00m:\n\u001b[0;32m   3814\u001b[0m     \u001b[38;5;66;03m# If we have a listlike key, _check_indexing_error will raise\u001b[39;00m\n\u001b[0;32m   3815\u001b[0m     \u001b[38;5;66;03m#  InvalidIndexError. Otherwise we fall through and re-raise\u001b[39;00m\n\u001b[0;32m   3816\u001b[0m     \u001b[38;5;66;03m#  the TypeError.\u001b[39;00m\n\u001b[0;32m   3817\u001b[0m     \u001b[38;5;28mself\u001b[39m\u001b[38;5;241m.\u001b[39m_check_indexing_error(key)\n",
      "\u001b[1;31mKeyError\u001b[0m: 'Date recieved'"
     ]
    }
   ],
   "source": [
    "complaint_date['Day received'] = complaint_data['Date received'].dt.day\n",
    "complaint_date['Month received'] = complaint_data[\"Date received\"].dt.month\n",
    "complaint_date['Year received'] = complaint_data[\"Date received\"].dt.year"
   ]
  },
  {
   "cell_type": "code",
   "execution_count": 163,
   "id": "b25f9d18-0cd5-4bf7-8b47-251154aba393",
   "metadata": {},
   "outputs": [],
   "source": [
    "complaint_data.drop(columns=['Date received'], inplace=True)"
   ]
  },
  {
   "cell_type": "code",
   "execution_count": 70,
   "id": "4614c2a2-27f9-4484-a213-76cd953eabfa",
   "metadata": {},
   "outputs": [],
   "source": [
    "complaint_data.set_index('Date received', inplace=True)"
   ]
  },
  {
   "cell_type": "code",
   "execution_count": null,
   "id": "d9f22abf-bfa2-4957-b73f-c508c89fd168",
   "metadata": {},
   "outputs": [],
   "source": [
    "complaint_data.resample('D').count()"
   ]
  },
  {
   "cell_type": "code",
   "execution_count": null,
   "id": "457744fc-c4ea-412a-9a01-a730b6edadc1",
   "metadata": {},
   "outputs": [],
   "source": [
    "plt.plot(complaint_data.resample('D').count())"
   ]
  },
  {
   "cell_type": "code",
   "execution_count": null,
   "id": "e923bf47-a5e7-4ca6-8ae6-5a0ba655db51",
   "metadata": {},
   "outputs": [],
   "source": [
    "plt.plot(complaint_data.resample('M').count())"
   ]
  },
  {
   "cell_type": "code",
   "execution_count": null,
   "id": "0b69a53f-3bd3-4205-af52-98b8549672be",
   "metadata": {
    "scrolled": true
   },
   "outputs": [],
   "source": [
    "plt.plot(complaint_data.resample('Y').count())"
   ]
  },
  {
   "cell_type": "markdown",
   "id": "9d1d9e1f-ee62-4d43-87f5-d8647e884648",
   "metadata": {},
   "source": [
    "The # of complaints increases exponentially over the years"
   ]
  },
  {
   "cell_type": "raw",
   "id": "21e3ca1a-1698-4520-b53e-6882260ef911",
   "metadata": {},
   "source": [
    "There is another column called \"Date sent to company\". Lets see if the time that it takes for the complaint to reach the company has any impact on what happens with the consumer. "
   ]
  },
  {
   "cell_type": "code",
   "execution_count": 195,
   "id": "30eb6b46-b39b-4f4c-b1cf-47ef491dfb33",
   "metadata": {},
   "outputs": [],
   "source": [
    "from datetime import timedelta, datetime"
   ]
  },
  {
   "cell_type": "code",
   "execution_count": 209,
   "id": "9241d905-4c3e-44cd-b4df-65002713ad42",
   "metadata": {},
   "outputs": [],
   "source": [
    "complaint_data['Time taken for company to recieve complaint (in days)'] = pd.to_datetime(complaint_data['Date sent to company']) - complaint_data.index"
   ]
  },
  {
   "cell_type": "code",
   "execution_count": 210,
   "id": "174e0de7-4916-4f3b-ae63-5cf205f07b47",
   "metadata": {},
   "outputs": [],
   "source": [
    "complaint_data['Time taken for company to recieve complaint (in days)'] = complaint_data['Time taken for company to recieve complaint (in days)'].apply(lambda x: x.days)"
   ]
  },
  {
   "cell_type": "code",
   "execution_count": 212,
   "id": "d3e82f0f-6b38-40c5-adc7-32df6a094afa",
   "metadata": {},
   "outputs": [],
   "source": [
    "# we no longer need to know what date the complaint was sent to the company\n",
    "complaint_data.drop(columns=['Date sent to company'], inplace=True)"
   ]
  },
  {
   "cell_type": "code",
   "execution_count": null,
   "id": "852cc999-8acb-49c5-a10b-8adea4f05989",
   "metadata": {},
   "outputs": [],
   "source": [
    "plt.plot(complaint_data['Time taken for company to recieve complaint (in days)'].resample('M').sum())"
   ]
  },
  {
   "cell_type": "code",
   "execution_count": 220,
   "id": "5975ce9a-dd4b-4de8-a223-8defb2524836",
   "metadata": {},
   "outputs": [
    {
     "data": {
      "text/html": [
       "<div>\n",
       "<style scoped>\n",
       "    .dataframe tbody tr th:only-of-type {\n",
       "        vertical-align: middle;\n",
       "    }\n",
       "\n",
       "    .dataframe tbody tr th {\n",
       "        vertical-align: top;\n",
       "    }\n",
       "\n",
       "    .dataframe thead th {\n",
       "        text-align: right;\n",
       "    }\n",
       "</style>\n",
       "<table border=\"1\" class=\"dataframe\">\n",
       "  <thead>\n",
       "    <tr style=\"text-align: right;\">\n",
       "      <th></th>\n",
       "      <th>ComplaintID</th>\n",
       "      <th>Issue</th>\n",
       "      <th>Sub-issue</th>\n",
       "      <th>Tags</th>\n",
       "      <th>Submitted via</th>\n",
       "      <th>Company response to consumer</th>\n",
       "      <th>Timely response?</th>\n",
       "      <th>CustomerID</th>\n",
       "      <th>ProductID</th>\n",
       "      <th>CompanyID</th>\n",
       "      <th>Time taken for company to recieve complaint (in days)</th>\n",
       "    </tr>\n",
       "    <tr>\n",
       "      <th>Date received</th>\n",
       "      <th></th>\n",
       "      <th></th>\n",
       "      <th></th>\n",
       "      <th></th>\n",
       "      <th></th>\n",
       "      <th></th>\n",
       "      <th></th>\n",
       "      <th></th>\n",
       "      <th></th>\n",
       "      <th></th>\n",
       "      <th></th>\n",
       "    </tr>\n",
       "  </thead>\n",
       "  <tbody>\n",
       "    <tr>\n",
       "      <th>2024-06-20</th>\n",
       "      <td>9309148</td>\n",
       "      <td>Improper use of your report</td>\n",
       "      <td>Reporting company used your report improperly</td>\n",
       "      <td>Missing Value</td>\n",
       "      <td>Web</td>\n",
       "      <td>In progress</td>\n",
       "      <td>Yes</td>\n",
       "      <td>0</td>\n",
       "      <td>28</td>\n",
       "      <td>24834</td>\n",
       "      <td>0</td>\n",
       "    </tr>\n",
       "    <tr>\n",
       "      <th>2024-06-09</th>\n",
       "      <td>9212410</td>\n",
       "      <td>Incorrect information on your report</td>\n",
       "      <td>Account status incorrect</td>\n",
       "      <td>Missing Value</td>\n",
       "      <td>Web</td>\n",
       "      <td>Closed with explanation</td>\n",
       "      <td>Yes</td>\n",
       "      <td>1</td>\n",
       "      <td>28</td>\n",
       "      <td>23644</td>\n",
       "      <td>0</td>\n",
       "    </tr>\n",
       "    <tr>\n",
       "      <th>2024-06-09</th>\n",
       "      <td>9215331</td>\n",
       "      <td>Problem with a company's investigation into an...</td>\n",
       "      <td>Their investigation did not fix an error on yo...</td>\n",
       "      <td>Missing Value</td>\n",
       "      <td>Web</td>\n",
       "      <td>In progress</td>\n",
       "      <td>Yes</td>\n",
       "      <td>2</td>\n",
       "      <td>28</td>\n",
       "      <td>11384</td>\n",
       "      <td>0</td>\n",
       "    </tr>\n",
       "    <tr>\n",
       "      <th>2024-06-09</th>\n",
       "      <td>9212589</td>\n",
       "      <td>Managing an account</td>\n",
       "      <td>Banking errors</td>\n",
       "      <td>Missing Value</td>\n",
       "      <td>Web</td>\n",
       "      <td>In progress</td>\n",
       "      <td>Yes</td>\n",
       "      <td>3</td>\n",
       "      <td>6</td>\n",
       "      <td>69285</td>\n",
       "      <td>0</td>\n",
       "    </tr>\n",
       "    <tr>\n",
       "      <th>2024-06-09</th>\n",
       "      <td>9212696</td>\n",
       "      <td>Problem with a company's investigation into an...</td>\n",
       "      <td>Their investigation did not fix an error on yo...</td>\n",
       "      <td>Missing Value</td>\n",
       "      <td>Web</td>\n",
       "      <td>In progress</td>\n",
       "      <td>Yes</td>\n",
       "      <td>4</td>\n",
       "      <td>28</td>\n",
       "      <td>11391</td>\n",
       "      <td>0</td>\n",
       "    </tr>\n",
       "  </tbody>\n",
       "</table>\n",
       "</div>"
      ],
      "text/plain": [
       "               ComplaintID                                              Issue  \\\n",
       "Date received                                                                   \n",
       "2024-06-20         9309148                        Improper use of your report   \n",
       "2024-06-09         9212410               Incorrect information on your report   \n",
       "2024-06-09         9215331  Problem with a company's investigation into an...   \n",
       "2024-06-09         9212589                                Managing an account   \n",
       "2024-06-09         9212696  Problem with a company's investigation into an...   \n",
       "\n",
       "                                                       Sub-issue  \\\n",
       "Date received                                                      \n",
       "2024-06-20         Reporting company used your report improperly   \n",
       "2024-06-09                              Account status incorrect   \n",
       "2024-06-09     Their investigation did not fix an error on yo...   \n",
       "2024-06-09                                        Banking errors   \n",
       "2024-06-09     Their investigation did not fix an error on yo...   \n",
       "\n",
       "                        Tags Submitted via Company response to consumer  \\\n",
       "Date received                                                             \n",
       "2024-06-20     Missing Value           Web                  In progress   \n",
       "2024-06-09     Missing Value           Web      Closed with explanation   \n",
       "2024-06-09     Missing Value           Web                  In progress   \n",
       "2024-06-09     Missing Value           Web                  In progress   \n",
       "2024-06-09     Missing Value           Web                  In progress   \n",
       "\n",
       "              Timely response?  CustomerID  ProductID  CompanyID  \\\n",
       "Date received                                                      \n",
       "2024-06-20                 Yes           0         28      24834   \n",
       "2024-06-09                 Yes           1         28      23644   \n",
       "2024-06-09                 Yes           2         28      11384   \n",
       "2024-06-09                 Yes           3          6      69285   \n",
       "2024-06-09                 Yes           4         28      11391   \n",
       "\n",
       "               Time taken for company to recieve complaint (in days)  \n",
       "Date received                                                         \n",
       "2024-06-20                                                     0      \n",
       "2024-06-09                                                     0      \n",
       "2024-06-09                                                     0      \n",
       "2024-06-09                                                     0      \n",
       "2024-06-09                                                     0      "
      ]
     },
     "execution_count": 220,
     "metadata": {},
     "output_type": "execute_result"
    }
   ],
   "source": [
    "complaint_data.head()"
   ]
  },
  {
   "cell_type": "raw",
   "id": "0d5d9e8f-5623-4e84-adbf-e7e1a7fec98b",
   "metadata": {},
   "source": [
    "Lets perform a statistical test to determine if the issue for the complaint is associated with the company\n",
    "\n",
    "We can use a chi-squared test for this\n",
    "Ho: Issue of complaint is independent of the company\n",
    "Ha: There is an association between the issue of complaint and the company"
   ]
  },
  {
   "cell_type": "code",
   "execution_count": 247,
   "id": "f93f9f0e-0999-4deb-ba59-a17d581cbfc8",
   "metadata": {},
   "outputs": [],
   "source": [
    "from scipy.stats import chi2_contingency"
   ]
  },
  {
   "cell_type": "code",
   "execution_count": 268,
   "id": "9500c1d7-51f4-47c4-a134-b5702dfb2051",
   "metadata": {},
   "outputs": [],
   "source": [
    "contingency_table = pd.crosstab(complaint_data['Issue'], pd.merge(complaint_data.reset_index(), company_data, on='CompanyID')['Company'], dropna=False)"
   ]
  },
  {
   "cell_type": "code",
   "execution_count": 269,
   "id": "d27e344c-ab32-43e9-bc60-196237fb4b7f",
   "metadata": {
    "scrolled": true
   },
   "outputs": [
    {
     "data": {
      "text/html": [
       "<div>\n",
       "<style scoped>\n",
       "    .dataframe tbody tr th:only-of-type {\n",
       "        vertical-align: middle;\n",
       "    }\n",
       "\n",
       "    .dataframe tbody tr th {\n",
       "        vertical-align: top;\n",
       "    }\n",
       "\n",
       "    .dataframe thead th {\n",
       "        text-align: right;\n",
       "    }\n",
       "</style>\n",
       "<table border=\"1\" class=\"dataframe\">\n",
       "  <thead>\n",
       "    <tr style=\"text-align: right;\">\n",
       "      <th>Company</th>\n",
       "      <th>1 STOP MONEY CENTERS, LLC</th>\n",
       "      <th>16 Hands LLC. dba Fiducius</th>\n",
       "      <th>1803 Capital, LLC</th>\n",
       "      <th>1ST 2ND MORTGAGE CO. OF NJ INC</th>\n",
       "      <th>1ST ALLIANCE LENDING, LLC</th>\n",
       "      <th>1ST FINANCIAL, INC.</th>\n",
       "      <th>1ST IBERIA CREDIT, INC.</th>\n",
       "      <th>1ST RESULTS BILLINGS &amp; COLLECTIONS, INC.</th>\n",
       "      <th>1st Fidelity Loan Servicing</th>\n",
       "      <th>1st Franklin Financial Corporation</th>\n",
       "      <th>...</th>\n",
       "      <th>Zip Co US Inc.</th>\n",
       "      <th>ZuntaFi Corp</th>\n",
       "      <th>eCon Credit LP</th>\n",
       "      <th>eMoneyUSA Holdings, LLC</th>\n",
       "      <th>eMortgage Funding LLC</th>\n",
       "      <th>eToro USA LLC</th>\n",
       "      <th>i3 Lending, Inc</th>\n",
       "      <th>iFreedom Direct Corporation</th>\n",
       "      <th>iQuantified Management Services, LLC</th>\n",
       "      <th>Lippman Recupero, LLC</th>\n",
       "    </tr>\n",
       "    <tr>\n",
       "      <th>Issue</th>\n",
       "      <th></th>\n",
       "      <th></th>\n",
       "      <th></th>\n",
       "      <th></th>\n",
       "      <th></th>\n",
       "      <th></th>\n",
       "      <th></th>\n",
       "      <th></th>\n",
       "      <th></th>\n",
       "      <th></th>\n",
       "      <th></th>\n",
       "      <th></th>\n",
       "      <th></th>\n",
       "      <th></th>\n",
       "      <th></th>\n",
       "      <th></th>\n",
       "      <th></th>\n",
       "      <th></th>\n",
       "      <th></th>\n",
       "      <th></th>\n",
       "      <th></th>\n",
       "    </tr>\n",
       "  </thead>\n",
       "  <tbody>\n",
       "    <tr>\n",
       "      <th>APR or interest rate</th>\n",
       "      <td>0</td>\n",
       "      <td>0</td>\n",
       "      <td>0</td>\n",
       "      <td>0</td>\n",
       "      <td>0</td>\n",
       "      <td>0</td>\n",
       "      <td>0</td>\n",
       "      <td>0</td>\n",
       "      <td>0</td>\n",
       "      <td>0</td>\n",
       "      <td>...</td>\n",
       "      <td>0</td>\n",
       "      <td>0</td>\n",
       "      <td>0</td>\n",
       "      <td>0</td>\n",
       "      <td>0</td>\n",
       "      <td>0</td>\n",
       "      <td>0</td>\n",
       "      <td>0</td>\n",
       "      <td>0</td>\n",
       "      <td>0</td>\n",
       "    </tr>\n",
       "    <tr>\n",
       "      <th>Account opening, closing, or management</th>\n",
       "      <td>0</td>\n",
       "      <td>0</td>\n",
       "      <td>0</td>\n",
       "      <td>0</td>\n",
       "      <td>0</td>\n",
       "      <td>0</td>\n",
       "      <td>0</td>\n",
       "      <td>0</td>\n",
       "      <td>0</td>\n",
       "      <td>1</td>\n",
       "      <td>...</td>\n",
       "      <td>1</td>\n",
       "      <td>0</td>\n",
       "      <td>0</td>\n",
       "      <td>0</td>\n",
       "      <td>0</td>\n",
       "      <td>0</td>\n",
       "      <td>0</td>\n",
       "      <td>0</td>\n",
       "      <td>0</td>\n",
       "      <td>0</td>\n",
       "    </tr>\n",
       "    <tr>\n",
       "      <th>Account terms and changes</th>\n",
       "      <td>0</td>\n",
       "      <td>0</td>\n",
       "      <td>0</td>\n",
       "      <td>0</td>\n",
       "      <td>0</td>\n",
       "      <td>0</td>\n",
       "      <td>0</td>\n",
       "      <td>0</td>\n",
       "      <td>0</td>\n",
       "      <td>0</td>\n",
       "      <td>...</td>\n",
       "      <td>0</td>\n",
       "      <td>0</td>\n",
       "      <td>0</td>\n",
       "      <td>0</td>\n",
       "      <td>0</td>\n",
       "      <td>0</td>\n",
       "      <td>0</td>\n",
       "      <td>0</td>\n",
       "      <td>0</td>\n",
       "      <td>0</td>\n",
       "    </tr>\n",
       "    <tr>\n",
       "      <th>Adding money</th>\n",
       "      <td>0</td>\n",
       "      <td>0</td>\n",
       "      <td>0</td>\n",
       "      <td>0</td>\n",
       "      <td>0</td>\n",
       "      <td>0</td>\n",
       "      <td>0</td>\n",
       "      <td>0</td>\n",
       "      <td>0</td>\n",
       "      <td>0</td>\n",
       "      <td>...</td>\n",
       "      <td>0</td>\n",
       "      <td>0</td>\n",
       "      <td>0</td>\n",
       "      <td>0</td>\n",
       "      <td>0</td>\n",
       "      <td>0</td>\n",
       "      <td>0</td>\n",
       "      <td>0</td>\n",
       "      <td>0</td>\n",
       "      <td>0</td>\n",
       "    </tr>\n",
       "    <tr>\n",
       "      <th>Advertising</th>\n",
       "      <td>0</td>\n",
       "      <td>0</td>\n",
       "      <td>0</td>\n",
       "      <td>0</td>\n",
       "      <td>0</td>\n",
       "      <td>0</td>\n",
       "      <td>0</td>\n",
       "      <td>0</td>\n",
       "      <td>0</td>\n",
       "      <td>0</td>\n",
       "      <td>...</td>\n",
       "      <td>0</td>\n",
       "      <td>0</td>\n",
       "      <td>0</td>\n",
       "      <td>0</td>\n",
       "      <td>0</td>\n",
       "      <td>0</td>\n",
       "      <td>0</td>\n",
       "      <td>0</td>\n",
       "      <td>0</td>\n",
       "      <td>0</td>\n",
       "    </tr>\n",
       "    <tr>\n",
       "      <th>...</th>\n",
       "      <td>...</td>\n",
       "      <td>...</td>\n",
       "      <td>...</td>\n",
       "      <td>...</td>\n",
       "      <td>...</td>\n",
       "      <td>...</td>\n",
       "      <td>...</td>\n",
       "      <td>...</td>\n",
       "      <td>...</td>\n",
       "      <td>...</td>\n",
       "      <td>...</td>\n",
       "      <td>...</td>\n",
       "      <td>...</td>\n",
       "      <td>...</td>\n",
       "      <td>...</td>\n",
       "      <td>...</td>\n",
       "      <td>...</td>\n",
       "      <td>...</td>\n",
       "      <td>...</td>\n",
       "      <td>...</td>\n",
       "      <td>...</td>\n",
       "    </tr>\n",
       "    <tr>\n",
       "      <th>Vehicle was repossessed or sold the vehicle</th>\n",
       "      <td>0</td>\n",
       "      <td>0</td>\n",
       "      <td>0</td>\n",
       "      <td>0</td>\n",
       "      <td>0</td>\n",
       "      <td>0</td>\n",
       "      <td>0</td>\n",
       "      <td>0</td>\n",
       "      <td>0</td>\n",
       "      <td>0</td>\n",
       "      <td>...</td>\n",
       "      <td>0</td>\n",
       "      <td>0</td>\n",
       "      <td>0</td>\n",
       "      <td>0</td>\n",
       "      <td>0</td>\n",
       "      <td>0</td>\n",
       "      <td>0</td>\n",
       "      <td>0</td>\n",
       "      <td>0</td>\n",
       "      <td>0</td>\n",
       "    </tr>\n",
       "    <tr>\n",
       "      <th>Was approved for a loan, but didn't receive money</th>\n",
       "      <td>0</td>\n",
       "      <td>0</td>\n",
       "      <td>0</td>\n",
       "      <td>0</td>\n",
       "      <td>0</td>\n",
       "      <td>0</td>\n",
       "      <td>0</td>\n",
       "      <td>0</td>\n",
       "      <td>0</td>\n",
       "      <td>0</td>\n",
       "      <td>...</td>\n",
       "      <td>0</td>\n",
       "      <td>0</td>\n",
       "      <td>0</td>\n",
       "      <td>0</td>\n",
       "      <td>0</td>\n",
       "      <td>0</td>\n",
       "      <td>0</td>\n",
       "      <td>0</td>\n",
       "      <td>0</td>\n",
       "      <td>0</td>\n",
       "    </tr>\n",
       "    <tr>\n",
       "      <th>Was approved for a loan, but didn't receive the money</th>\n",
       "      <td>0</td>\n",
       "      <td>0</td>\n",
       "      <td>0</td>\n",
       "      <td>0</td>\n",
       "      <td>0</td>\n",
       "      <td>0</td>\n",
       "      <td>0</td>\n",
       "      <td>0</td>\n",
       "      <td>0</td>\n",
       "      <td>0</td>\n",
       "      <td>...</td>\n",
       "      <td>0</td>\n",
       "      <td>0</td>\n",
       "      <td>0</td>\n",
       "      <td>0</td>\n",
       "      <td>0</td>\n",
       "      <td>0</td>\n",
       "      <td>0</td>\n",
       "      <td>0</td>\n",
       "      <td>0</td>\n",
       "      <td>0</td>\n",
       "    </tr>\n",
       "    <tr>\n",
       "      <th>Written notification about debt</th>\n",
       "      <td>0</td>\n",
       "      <td>0</td>\n",
       "      <td>1</td>\n",
       "      <td>0</td>\n",
       "      <td>0</td>\n",
       "      <td>0</td>\n",
       "      <td>0</td>\n",
       "      <td>0</td>\n",
       "      <td>0</td>\n",
       "      <td>3</td>\n",
       "      <td>...</td>\n",
       "      <td>0</td>\n",
       "      <td>2</td>\n",
       "      <td>0</td>\n",
       "      <td>0</td>\n",
       "      <td>0</td>\n",
       "      <td>0</td>\n",
       "      <td>0</td>\n",
       "      <td>0</td>\n",
       "      <td>1</td>\n",
       "      <td>0</td>\n",
       "    </tr>\n",
       "    <tr>\n",
       "      <th>Wrong amount charged or received</th>\n",
       "      <td>0</td>\n",
       "      <td>0</td>\n",
       "      <td>0</td>\n",
       "      <td>0</td>\n",
       "      <td>0</td>\n",
       "      <td>0</td>\n",
       "      <td>0</td>\n",
       "      <td>0</td>\n",
       "      <td>0</td>\n",
       "      <td>0</td>\n",
       "      <td>...</td>\n",
       "      <td>0</td>\n",
       "      <td>0</td>\n",
       "      <td>0</td>\n",
       "      <td>0</td>\n",
       "      <td>0</td>\n",
       "      <td>0</td>\n",
       "      <td>0</td>\n",
       "      <td>0</td>\n",
       "      <td>0</td>\n",
       "      <td>0</td>\n",
       "    </tr>\n",
       "  </tbody>\n",
       "</table>\n",
       "<p>179 rows × 4906 columns</p>\n",
       "</div>"
      ],
      "text/plain": [
       "Company                                             1 STOP MONEY CENTERS, LLC  \\\n",
       "Issue                                                                           \n",
       "APR or interest rate                                                        0   \n",
       "Account opening, closing, or management                                     0   \n",
       "Account terms and changes                                                   0   \n",
       "Adding money                                                                0   \n",
       "Advertising                                                                 0   \n",
       "...                                                                       ...   \n",
       "Vehicle was repossessed or sold the vehicle                                 0   \n",
       "Was approved for a loan, but didn't receive money                           0   \n",
       "Was approved for a loan, but didn't receive the...                          0   \n",
       "Written notification about debt                                             0   \n",
       "Wrong amount charged or received                                            0   \n",
       "\n",
       "Company                                             16 Hands LLC. dba Fiducius  \\\n",
       "Issue                                                                            \n",
       "APR or interest rate                                                         0   \n",
       "Account opening, closing, or management                                      0   \n",
       "Account terms and changes                                                    0   \n",
       "Adding money                                                                 0   \n",
       "Advertising                                                                  0   \n",
       "...                                                                        ...   \n",
       "Vehicle was repossessed or sold the vehicle                                  0   \n",
       "Was approved for a loan, but didn't receive money                            0   \n",
       "Was approved for a loan, but didn't receive the...                           0   \n",
       "Written notification about debt                                              0   \n",
       "Wrong amount charged or received                                             0   \n",
       "\n",
       "Company                                             1803 Capital, LLC  \\\n",
       "Issue                                                                   \n",
       "APR or interest rate                                                0   \n",
       "Account opening, closing, or management                             0   \n",
       "Account terms and changes                                           0   \n",
       "Adding money                                                        0   \n",
       "Advertising                                                         0   \n",
       "...                                                               ...   \n",
       "Vehicle was repossessed or sold the vehicle                         0   \n",
       "Was approved for a loan, but didn't receive money                   0   \n",
       "Was approved for a loan, but didn't receive the...                  0   \n",
       "Written notification about debt                                     1   \n",
       "Wrong amount charged or received                                    0   \n",
       "\n",
       "Company                                             1ST 2ND MORTGAGE CO. OF NJ INC  \\\n",
       "Issue                                                                                \n",
       "APR or interest rate                                                             0   \n",
       "Account opening, closing, or management                                          0   \n",
       "Account terms and changes                                                        0   \n",
       "Adding money                                                                     0   \n",
       "Advertising                                                                      0   \n",
       "...                                                                            ...   \n",
       "Vehicle was repossessed or sold the vehicle                                      0   \n",
       "Was approved for a loan, but didn't receive money                                0   \n",
       "Was approved for a loan, but didn't receive the...                               0   \n",
       "Written notification about debt                                                  0   \n",
       "Wrong amount charged or received                                                 0   \n",
       "\n",
       "Company                                             1ST ALLIANCE LENDING, LLC  \\\n",
       "Issue                                                                           \n",
       "APR or interest rate                                                        0   \n",
       "Account opening, closing, or management                                     0   \n",
       "Account terms and changes                                                   0   \n",
       "Adding money                                                                0   \n",
       "Advertising                                                                 0   \n",
       "...                                                                       ...   \n",
       "Vehicle was repossessed or sold the vehicle                                 0   \n",
       "Was approved for a loan, but didn't receive money                           0   \n",
       "Was approved for a loan, but didn't receive the...                          0   \n",
       "Written notification about debt                                             0   \n",
       "Wrong amount charged or received                                            0   \n",
       "\n",
       "Company                                             1ST FINANCIAL, INC.  \\\n",
       "Issue                                                                     \n",
       "APR or interest rate                                                  0   \n",
       "Account opening, closing, or management                               0   \n",
       "Account terms and changes                                             0   \n",
       "Adding money                                                          0   \n",
       "Advertising                                                           0   \n",
       "...                                                                 ...   \n",
       "Vehicle was repossessed or sold the vehicle                           0   \n",
       "Was approved for a loan, but didn't receive money                     0   \n",
       "Was approved for a loan, but didn't receive the...                    0   \n",
       "Written notification about debt                                       0   \n",
       "Wrong amount charged or received                                      0   \n",
       "\n",
       "Company                                             1ST IBERIA CREDIT, INC.  \\\n",
       "Issue                                                                         \n",
       "APR or interest rate                                                      0   \n",
       "Account opening, closing, or management                                   0   \n",
       "Account terms and changes                                                 0   \n",
       "Adding money                                                              0   \n",
       "Advertising                                                               0   \n",
       "...                                                                     ...   \n",
       "Vehicle was repossessed or sold the vehicle                               0   \n",
       "Was approved for a loan, but didn't receive money                         0   \n",
       "Was approved for a loan, but didn't receive the...                        0   \n",
       "Written notification about debt                                           0   \n",
       "Wrong amount charged or received                                          0   \n",
       "\n",
       "Company                                             1ST RESULTS BILLINGS & COLLECTIONS, INC.  \\\n",
       "Issue                                                                                          \n",
       "APR or interest rate                                                                       0   \n",
       "Account opening, closing, or management                                                    0   \n",
       "Account terms and changes                                                                  0   \n",
       "Adding money                                                                               0   \n",
       "Advertising                                                                                0   \n",
       "...                                                                                      ...   \n",
       "Vehicle was repossessed or sold the vehicle                                                0   \n",
       "Was approved for a loan, but didn't receive money                                          0   \n",
       "Was approved for a loan, but didn't receive the...                                         0   \n",
       "Written notification about debt                                                            0   \n",
       "Wrong amount charged or received                                                           0   \n",
       "\n",
       "Company                                             1st Fidelity Loan Servicing  \\\n",
       "Issue                                                                             \n",
       "APR or interest rate                                                          0   \n",
       "Account opening, closing, or management                                       0   \n",
       "Account terms and changes                                                     0   \n",
       "Adding money                                                                  0   \n",
       "Advertising                                                                   0   \n",
       "...                                                                         ...   \n",
       "Vehicle was repossessed or sold the vehicle                                   0   \n",
       "Was approved for a loan, but didn't receive money                             0   \n",
       "Was approved for a loan, but didn't receive the...                            0   \n",
       "Written notification about debt                                               0   \n",
       "Wrong amount charged or received                                              0   \n",
       "\n",
       "Company                                             1st Franklin Financial Corporation  \\\n",
       "Issue                                                                                    \n",
       "APR or interest rate                                                                 0   \n",
       "Account opening, closing, or management                                              1   \n",
       "Account terms and changes                                                            0   \n",
       "Adding money                                                                         0   \n",
       "Advertising                                                                          0   \n",
       "...                                                                                ...   \n",
       "Vehicle was repossessed or sold the vehicle                                          0   \n",
       "Was approved for a loan, but didn't receive money                                    0   \n",
       "Was approved for a loan, but didn't receive the...                                   0   \n",
       "Written notification about debt                                                      3   \n",
       "Wrong amount charged or received                                                     0   \n",
       "\n",
       "Company                                             ...  Zip Co US Inc.  \\\n",
       "Issue                                               ...                   \n",
       "APR or interest rate                                ...               0   \n",
       "Account opening, closing, or management             ...               1   \n",
       "Account terms and changes                           ...               0   \n",
       "Adding money                                        ...               0   \n",
       "Advertising                                         ...               0   \n",
       "...                                                 ...             ...   \n",
       "Vehicle was repossessed or sold the vehicle         ...               0   \n",
       "Was approved for a loan, but didn't receive money   ...               0   \n",
       "Was approved for a loan, but didn't receive the...  ...               0   \n",
       "Written notification about debt                     ...               0   \n",
       "Wrong amount charged or received                    ...               0   \n",
       "\n",
       "Company                                             ZuntaFi Corp  \\\n",
       "Issue                                                              \n",
       "APR or interest rate                                           0   \n",
       "Account opening, closing, or management                        0   \n",
       "Account terms and changes                                      0   \n",
       "Adding money                                                   0   \n",
       "Advertising                                                    0   \n",
       "...                                                          ...   \n",
       "Vehicle was repossessed or sold the vehicle                    0   \n",
       "Was approved for a loan, but didn't receive money              0   \n",
       "Was approved for a loan, but didn't receive the...             0   \n",
       "Written notification about debt                                2   \n",
       "Wrong amount charged or received                               0   \n",
       "\n",
       "Company                                             eCon Credit LP  \\\n",
       "Issue                                                                \n",
       "APR or interest rate                                             0   \n",
       "Account opening, closing, or management                          0   \n",
       "Account terms and changes                                        0   \n",
       "Adding money                                                     0   \n",
       "Advertising                                                      0   \n",
       "...                                                            ...   \n",
       "Vehicle was repossessed or sold the vehicle                      0   \n",
       "Was approved for a loan, but didn't receive money                0   \n",
       "Was approved for a loan, but didn't receive the...               0   \n",
       "Written notification about debt                                  0   \n",
       "Wrong amount charged or received                                 0   \n",
       "\n",
       "Company                                             eMoneyUSA Holdings, LLC  \\\n",
       "Issue                                                                         \n",
       "APR or interest rate                                                      0   \n",
       "Account opening, closing, or management                                   0   \n",
       "Account terms and changes                                                 0   \n",
       "Adding money                                                              0   \n",
       "Advertising                                                               0   \n",
       "...                                                                     ...   \n",
       "Vehicle was repossessed or sold the vehicle                               0   \n",
       "Was approved for a loan, but didn't receive money                         0   \n",
       "Was approved for a loan, but didn't receive the...                        0   \n",
       "Written notification about debt                                           0   \n",
       "Wrong amount charged or received                                          0   \n",
       "\n",
       "Company                                             eMortgage Funding LLC  \\\n",
       "Issue                                                                       \n",
       "APR or interest rate                                                    0   \n",
       "Account opening, closing, or management                                 0   \n",
       "Account terms and changes                                               0   \n",
       "Adding money                                                            0   \n",
       "Advertising                                                             0   \n",
       "...                                                                   ...   \n",
       "Vehicle was repossessed or sold the vehicle                             0   \n",
       "Was approved for a loan, but didn't receive money                       0   \n",
       "Was approved for a loan, but didn't receive the...                      0   \n",
       "Written notification about debt                                         0   \n",
       "Wrong amount charged or received                                        0   \n",
       "\n",
       "Company                                             eToro USA LLC  \\\n",
       "Issue                                                               \n",
       "APR or interest rate                                            0   \n",
       "Account opening, closing, or management                         0   \n",
       "Account terms and changes                                       0   \n",
       "Adding money                                                    0   \n",
       "Advertising                                                     0   \n",
       "...                                                           ...   \n",
       "Vehicle was repossessed or sold the vehicle                     0   \n",
       "Was approved for a loan, but didn't receive money               0   \n",
       "Was approved for a loan, but didn't receive the...              0   \n",
       "Written notification about debt                                 0   \n",
       "Wrong amount charged or received                                0   \n",
       "\n",
       "Company                                             i3 Lending, Inc  \\\n",
       "Issue                                                                 \n",
       "APR or interest rate                                              0   \n",
       "Account opening, closing, or management                           0   \n",
       "Account terms and changes                                         0   \n",
       "Adding money                                                      0   \n",
       "Advertising                                                       0   \n",
       "...                                                             ...   \n",
       "Vehicle was repossessed or sold the vehicle                       0   \n",
       "Was approved for a loan, but didn't receive money                 0   \n",
       "Was approved for a loan, but didn't receive the...                0   \n",
       "Written notification about debt                                   0   \n",
       "Wrong amount charged or received                                  0   \n",
       "\n",
       "Company                                             iFreedom Direct Corporation  \\\n",
       "Issue                                                                             \n",
       "APR or interest rate                                                          0   \n",
       "Account opening, closing, or management                                       0   \n",
       "Account terms and changes                                                     0   \n",
       "Adding money                                                                  0   \n",
       "Advertising                                                                   0   \n",
       "...                                                                         ...   \n",
       "Vehicle was repossessed or sold the vehicle                                   0   \n",
       "Was approved for a loan, but didn't receive money                             0   \n",
       "Was approved for a loan, but didn't receive the...                            0   \n",
       "Written notification about debt                                               0   \n",
       "Wrong amount charged or received                                              0   \n",
       "\n",
       "Company                                             iQuantified Management Services, LLC  \\\n",
       "Issue                                                                                      \n",
       "APR or interest rate                                                                   0   \n",
       "Account opening, closing, or management                                                0   \n",
       "Account terms and changes                                                              0   \n",
       "Adding money                                                                           0   \n",
       "Advertising                                                                            0   \n",
       "...                                                                                  ...   \n",
       "Vehicle was repossessed or sold the vehicle                                            0   \n",
       "Was approved for a loan, but didn't receive money                                      0   \n",
       "Was approved for a loan, but didn't receive the...                                     0   \n",
       "Written notification about debt                                                        1   \n",
       "Wrong amount charged or received                                                       0   \n",
       "\n",
       "Company                                              Lippman Recupero, LLC  \n",
       "Issue                                                                       \n",
       "APR or interest rate                                                     0  \n",
       "Account opening, closing, or management                                  0  \n",
       "Account terms and changes                                                0  \n",
       "Adding money                                                             0  \n",
       "Advertising                                                              0  \n",
       "...                                                                    ...  \n",
       "Vehicle was repossessed or sold the vehicle                              0  \n",
       "Was approved for a loan, but didn't receive money                        0  \n",
       "Was approved for a loan, but didn't receive the...                       0  \n",
       "Written notification about debt                                          0  \n",
       "Wrong amount charged or received                                         0  \n",
       "\n",
       "[179 rows x 4906 columns]"
      ]
     },
     "execution_count": 269,
     "metadata": {},
     "output_type": "execute_result"
    }
   ],
   "source": [
    "contingency_table"
   ]
  },
  {
   "cell_type": "code",
   "execution_count": 270,
   "id": "fd39b133-6a21-4a30-a31b-005abb0c0a6b",
   "metadata": {},
   "outputs": [
    {
     "name": "stdout",
     "output_type": "stream",
     "text": [
      "Chi-Square Statistic: 935229.4670912987\n",
      "P-Value: 0.0\n",
      "Degrees of Freedom: 873090\n",
      "There is an association between Company and Issue\n"
     ]
    }
   ],
   "source": [
    "chi2, p, dof, expected = chi2_contingency(contingency_table)\n",
    "\n",
    "print(f\"Chi-Square Statistic: {chi2}\")\n",
    "print(f\"P-Value: {p}\")\n",
    "print(f\"Degrees of Freedom: {dof}\")\n",
    "# print(f\"Expected Frequencies:\\n{expected}\")\n",
    "\n",
    "if p <= 0.05:\n",
    "    print(\"There is an association between Company and Issue\")\n",
    "else:\n",
    "    print(\"Company and Issue are independent\")"
   ]
  },
  {
   "cell_type": "raw",
   "id": "fb7dfbd3-1367-4660-a3c2-e25a238a8980",
   "metadata": {},
   "source": [
    "Let's see which companies have the most complaints in total"
   ]
  },
  {
   "cell_type": "code",
   "execution_count": 253,
   "id": "ac08505e-59a7-4dd5-a7c4-caa6baafe401",
   "metadata": {},
   "outputs": [],
   "source": [
    "test = pd.merge(complaint_data.reset_index(), company_data, on='CompanyID')"
   ]
  },
  {
   "cell_type": "code",
   "execution_count": 267,
   "id": "3daa8dfa-3638-4ea3-8412-14f3d6110b99",
   "metadata": {
    "scrolled": true
   },
   "outputs": [
    {
     "data": {
      "text/html": [
       "<div>\n",
       "<style scoped>\n",
       "    .dataframe tbody tr th:only-of-type {\n",
       "        vertical-align: middle;\n",
       "    }\n",
       "\n",
       "    .dataframe tbody tr th {\n",
       "        vertical-align: top;\n",
       "    }\n",
       "\n",
       "    .dataframe thead th {\n",
       "        text-align: right;\n",
       "    }\n",
       "</style>\n",
       "<table border=\"1\" class=\"dataframe\">\n",
       "  <thead>\n",
       "    <tr style=\"text-align: right;\">\n",
       "      <th></th>\n",
       "      <th>level_0</th>\n",
       "      <th>index</th>\n",
       "      <th>Date received</th>\n",
       "      <th>ComplaintID</th>\n",
       "      <th>Issue</th>\n",
       "      <th>Sub-issue</th>\n",
       "      <th>Tags</th>\n",
       "      <th>Submitted via</th>\n",
       "      <th>Company response to consumer</th>\n",
       "      <th>Timely response?</th>\n",
       "      <th>CustomerID</th>\n",
       "      <th>ProductID</th>\n",
       "      <th>CompanyID</th>\n",
       "      <th>Time taken for company to recieve complaint (in days)</th>\n",
       "      <th>Company public response</th>\n",
       "      <th>State</th>\n",
       "    </tr>\n",
       "    <tr>\n",
       "      <th>Company</th>\n",
       "      <th></th>\n",
       "      <th></th>\n",
       "      <th></th>\n",
       "      <th></th>\n",
       "      <th></th>\n",
       "      <th></th>\n",
       "      <th></th>\n",
       "      <th></th>\n",
       "      <th></th>\n",
       "      <th></th>\n",
       "      <th></th>\n",
       "      <th></th>\n",
       "      <th></th>\n",
       "      <th></th>\n",
       "      <th></th>\n",
       "      <th></th>\n",
       "    </tr>\n",
       "  </thead>\n",
       "  <tbody>\n",
       "    <tr>\n",
       "      <th>TRANSUNION INTERMEDIATE HOLDINGS, INC.</th>\n",
       "      <td>6796072</td>\n",
       "      <td>6796072</td>\n",
       "      <td>6796072</td>\n",
       "      <td>6796072</td>\n",
       "      <td>6796072</td>\n",
       "      <td>6796072</td>\n",
       "      <td>6796072</td>\n",
       "      <td>6796072</td>\n",
       "      <td>6796072</td>\n",
       "      <td>6796072</td>\n",
       "      <td>6796072</td>\n",
       "      <td>6796072</td>\n",
       "      <td>6796072</td>\n",
       "      <td>6796072</td>\n",
       "      <td>6796072</td>\n",
       "      <td>6796072</td>\n",
       "    </tr>\n",
       "    <tr>\n",
       "      <th>Experian Information Solutions Inc.</th>\n",
       "      <td>6097762</td>\n",
       "      <td>6097762</td>\n",
       "      <td>6097762</td>\n",
       "      <td>6097762</td>\n",
       "      <td>6097762</td>\n",
       "      <td>6097762</td>\n",
       "      <td>6097762</td>\n",
       "      <td>6097762</td>\n",
       "      <td>6097762</td>\n",
       "      <td>6097762</td>\n",
       "      <td>6097762</td>\n",
       "      <td>6097762</td>\n",
       "      <td>6097762</td>\n",
       "      <td>6097762</td>\n",
       "      <td>6097762</td>\n",
       "      <td>6097762</td>\n",
       "    </tr>\n",
       "    <tr>\n",
       "      <th>EQUIFAX, INC.</th>\n",
       "      <td>4091994</td>\n",
       "      <td>4091994</td>\n",
       "      <td>4091994</td>\n",
       "      <td>4091994</td>\n",
       "      <td>4091994</td>\n",
       "      <td>4091994</td>\n",
       "      <td>4091994</td>\n",
       "      <td>4091994</td>\n",
       "      <td>4091994</td>\n",
       "      <td>4091994</td>\n",
       "      <td>4091994</td>\n",
       "      <td>4091994</td>\n",
       "      <td>4091994</td>\n",
       "      <td>4091994</td>\n",
       "      <td>4091994</td>\n",
       "      <td>4091994</td>\n",
       "    </tr>\n",
       "    <tr>\n",
       "      <th>BANK OF AMERICA, NATIONAL ASSOCIATION</th>\n",
       "      <td>687400</td>\n",
       "      <td>687400</td>\n",
       "      <td>687400</td>\n",
       "      <td>687400</td>\n",
       "      <td>687400</td>\n",
       "      <td>687400</td>\n",
       "      <td>687400</td>\n",
       "      <td>687400</td>\n",
       "      <td>687400</td>\n",
       "      <td>687400</td>\n",
       "      <td>687400</td>\n",
       "      <td>687400</td>\n",
       "      <td>687400</td>\n",
       "      <td>687400</td>\n",
       "      <td>687400</td>\n",
       "      <td>687400</td>\n",
       "    </tr>\n",
       "    <tr>\n",
       "      <th>WELLS FARGO &amp; COMPANY</th>\n",
       "      <td>450037</td>\n",
       "      <td>450037</td>\n",
       "      <td>450037</td>\n",
       "      <td>450037</td>\n",
       "      <td>450037</td>\n",
       "      <td>450037</td>\n",
       "      <td>450037</td>\n",
       "      <td>450037</td>\n",
       "      <td>450037</td>\n",
       "      <td>450037</td>\n",
       "      <td>450037</td>\n",
       "      <td>450037</td>\n",
       "      <td>450037</td>\n",
       "      <td>450037</td>\n",
       "      <td>450037</td>\n",
       "      <td>450037</td>\n",
       "    </tr>\n",
       "    <tr>\n",
       "      <th>CITIBANK, N.A.</th>\n",
       "      <td>380944</td>\n",
       "      <td>380944</td>\n",
       "      <td>380944</td>\n",
       "      <td>380944</td>\n",
       "      <td>380944</td>\n",
       "      <td>380944</td>\n",
       "      <td>380944</td>\n",
       "      <td>380944</td>\n",
       "      <td>380944</td>\n",
       "      <td>380944</td>\n",
       "      <td>380944</td>\n",
       "      <td>380944</td>\n",
       "      <td>380944</td>\n",
       "      <td>380944</td>\n",
       "      <td>380944</td>\n",
       "      <td>380944</td>\n",
       "    </tr>\n",
       "    <tr>\n",
       "      <th>Onity Group Inc.</th>\n",
       "      <td>197374</td>\n",
       "      <td>197374</td>\n",
       "      <td>197374</td>\n",
       "      <td>197374</td>\n",
       "      <td>197374</td>\n",
       "      <td>197374</td>\n",
       "      <td>197374</td>\n",
       "      <td>197374</td>\n",
       "      <td>197374</td>\n",
       "      <td>197374</td>\n",
       "      <td>197374</td>\n",
       "      <td>197374</td>\n",
       "      <td>197374</td>\n",
       "      <td>197374</td>\n",
       "      <td>197374</td>\n",
       "      <td>197374</td>\n",
       "    </tr>\n",
       "    <tr>\n",
       "      <th>JPMORGAN CHASE &amp; CO.</th>\n",
       "      <td>142545</td>\n",
       "      <td>142545</td>\n",
       "      <td>142545</td>\n",
       "      <td>142545</td>\n",
       "      <td>142545</td>\n",
       "      <td>142545</td>\n",
       "      <td>142545</td>\n",
       "      <td>142545</td>\n",
       "      <td>142545</td>\n",
       "      <td>142545</td>\n",
       "      <td>142545</td>\n",
       "      <td>142545</td>\n",
       "      <td>142545</td>\n",
       "      <td>142545</td>\n",
       "      <td>142545</td>\n",
       "      <td>142545</td>\n",
       "    </tr>\n",
       "    <tr>\n",
       "      <th>Ditech Financial LLC</th>\n",
       "      <td>127041</td>\n",
       "      <td>127041</td>\n",
       "      <td>127041</td>\n",
       "      <td>127041</td>\n",
       "      <td>127041</td>\n",
       "      <td>127041</td>\n",
       "      <td>127041</td>\n",
       "      <td>127041</td>\n",
       "      <td>127041</td>\n",
       "      <td>127041</td>\n",
       "      <td>127041</td>\n",
       "      <td>127041</td>\n",
       "      <td>127041</td>\n",
       "      <td>127041</td>\n",
       "      <td>127041</td>\n",
       "      <td>127041</td>\n",
       "    </tr>\n",
       "    <tr>\n",
       "      <th>CAPITAL ONE FINANCIAL CORPORATION</th>\n",
       "      <td>123984</td>\n",
       "      <td>123984</td>\n",
       "      <td>123984</td>\n",
       "      <td>123984</td>\n",
       "      <td>123984</td>\n",
       "      <td>123984</td>\n",
       "      <td>123984</td>\n",
       "      <td>123984</td>\n",
       "      <td>123984</td>\n",
       "      <td>123984</td>\n",
       "      <td>123984</td>\n",
       "      <td>123984</td>\n",
       "      <td>123984</td>\n",
       "      <td>123984</td>\n",
       "      <td>123984</td>\n",
       "      <td>123984</td>\n",
       "    </tr>\n",
       "  </tbody>\n",
       "</table>\n",
       "</div>"
      ],
      "text/plain": [
       "                                        level_0    index  Date received  \\\n",
       "Company                                                                   \n",
       "TRANSUNION INTERMEDIATE HOLDINGS, INC.  6796072  6796072        6796072   \n",
       "Experian Information Solutions Inc.     6097762  6097762        6097762   \n",
       "EQUIFAX, INC.                           4091994  4091994        4091994   \n",
       "BANK OF AMERICA, NATIONAL ASSOCIATION    687400   687400         687400   \n",
       "WELLS FARGO & COMPANY                    450037   450037         450037   \n",
       "CITIBANK, N.A.                           380944   380944         380944   \n",
       "Onity Group Inc.                         197374   197374         197374   \n",
       "JPMORGAN CHASE & CO.                     142545   142545         142545   \n",
       "Ditech Financial LLC                     127041   127041         127041   \n",
       "CAPITAL ONE FINANCIAL CORPORATION        123984   123984         123984   \n",
       "\n",
       "                                        ComplaintID    Issue  Sub-issue  \\\n",
       "Company                                                                   \n",
       "TRANSUNION INTERMEDIATE HOLDINGS, INC.      6796072  6796072    6796072   \n",
       "Experian Information Solutions Inc.         6097762  6097762    6097762   \n",
       "EQUIFAX, INC.                               4091994  4091994    4091994   \n",
       "BANK OF AMERICA, NATIONAL ASSOCIATION        687400   687400     687400   \n",
       "WELLS FARGO & COMPANY                        450037   450037     450037   \n",
       "CITIBANK, N.A.                               380944   380944     380944   \n",
       "Onity Group Inc.                             197374   197374     197374   \n",
       "JPMORGAN CHASE & CO.                         142545   142545     142545   \n",
       "Ditech Financial LLC                         127041   127041     127041   \n",
       "CAPITAL ONE FINANCIAL CORPORATION            123984   123984     123984   \n",
       "\n",
       "                                           Tags  Submitted via  \\\n",
       "Company                                                          \n",
       "TRANSUNION INTERMEDIATE HOLDINGS, INC.  6796072        6796072   \n",
       "Experian Information Solutions Inc.     6097762        6097762   \n",
       "EQUIFAX, INC.                           4091994        4091994   \n",
       "BANK OF AMERICA, NATIONAL ASSOCIATION    687400         687400   \n",
       "WELLS FARGO & COMPANY                    450037         450037   \n",
       "CITIBANK, N.A.                           380944         380944   \n",
       "Onity Group Inc.                         197374         197374   \n",
       "JPMORGAN CHASE & CO.                     142545         142545   \n",
       "Ditech Financial LLC                     127041         127041   \n",
       "CAPITAL ONE FINANCIAL CORPORATION        123984         123984   \n",
       "\n",
       "                                        Company response to consumer  \\\n",
       "Company                                                                \n",
       "TRANSUNION INTERMEDIATE HOLDINGS, INC.                       6796072   \n",
       "Experian Information Solutions Inc.                          6097762   \n",
       "EQUIFAX, INC.                                                4091994   \n",
       "BANK OF AMERICA, NATIONAL ASSOCIATION                         687400   \n",
       "WELLS FARGO & COMPANY                                         450037   \n",
       "CITIBANK, N.A.                                                380944   \n",
       "Onity Group Inc.                                              197374   \n",
       "JPMORGAN CHASE & CO.                                          142545   \n",
       "Ditech Financial LLC                                          127041   \n",
       "CAPITAL ONE FINANCIAL CORPORATION                             123984   \n",
       "\n",
       "                                        Timely response?  CustomerID  \\\n",
       "Company                                                                \n",
       "TRANSUNION INTERMEDIATE HOLDINGS, INC.           6796072     6796072   \n",
       "Experian Information Solutions Inc.              6097762     6097762   \n",
       "EQUIFAX, INC.                                    4091994     4091994   \n",
       "BANK OF AMERICA, NATIONAL ASSOCIATION             687400      687400   \n",
       "WELLS FARGO & COMPANY                             450037      450037   \n",
       "CITIBANK, N.A.                                    380944      380944   \n",
       "Onity Group Inc.                                  197374      197374   \n",
       "JPMORGAN CHASE & CO.                              142545      142545   \n",
       "Ditech Financial LLC                              127041      127041   \n",
       "CAPITAL ONE FINANCIAL CORPORATION                 123984      123984   \n",
       "\n",
       "                                        ProductID  CompanyID  \\\n",
       "Company                                                        \n",
       "TRANSUNION INTERMEDIATE HOLDINGS, INC.    6796072    6796072   \n",
       "Experian Information Solutions Inc.       6097762    6097762   \n",
       "EQUIFAX, INC.                             4091994    4091994   \n",
       "BANK OF AMERICA, NATIONAL ASSOCIATION      687400     687400   \n",
       "WELLS FARGO & COMPANY                      450037     450037   \n",
       "CITIBANK, N.A.                             380944     380944   \n",
       "Onity Group Inc.                           197374     197374   \n",
       "JPMORGAN CHASE & CO.                       142545     142545   \n",
       "Ditech Financial LLC                       127041     127041   \n",
       "CAPITAL ONE FINANCIAL CORPORATION          123984     123984   \n",
       "\n",
       "                                        Time taken for company to recieve complaint (in days)  \\\n",
       "Company                                                                                         \n",
       "TRANSUNION INTERMEDIATE HOLDINGS, INC.                                            6796072       \n",
       "Experian Information Solutions Inc.                                               6097762       \n",
       "EQUIFAX, INC.                                                                     4091994       \n",
       "BANK OF AMERICA, NATIONAL ASSOCIATION                                              687400       \n",
       "WELLS FARGO & COMPANY                                                              450037       \n",
       "CITIBANK, N.A.                                                                     380944       \n",
       "Onity Group Inc.                                                                   197374       \n",
       "JPMORGAN CHASE & CO.                                                               142545       \n",
       "Ditech Financial LLC                                                               127041       \n",
       "CAPITAL ONE FINANCIAL CORPORATION                                                  123984       \n",
       "\n",
       "                                        Company public response    State  \n",
       "Company                                                                   \n",
       "TRANSUNION INTERMEDIATE HOLDINGS, INC.                  6796072  6796072  \n",
       "Experian Information Solutions Inc.                     6097762  6097762  \n",
       "EQUIFAX, INC.                                           4091994  4091994  \n",
       "BANK OF AMERICA, NATIONAL ASSOCIATION                    687400   687400  \n",
       "WELLS FARGO & COMPANY                                    450037   450037  \n",
       "CITIBANK, N.A.                                           380944   380944  \n",
       "Onity Group Inc.                                         197374   197374  \n",
       "JPMORGAN CHASE & CO.                                     142545   142545  \n",
       "Ditech Financial LLC                                     127041   127041  \n",
       "CAPITAL ONE FINANCIAL CORPORATION                        123984   123984  "
      ]
     },
     "execution_count": 267,
     "metadata": {},
     "output_type": "execute_result"
    }
   ],
   "source": [
    "top10_issue_companies = test.groupby('Company').count().sort_values(by='Issue', ascending=False).iloc[:10]"
   ]
  },
  {
   "cell_type": "markdown",
   "id": "19a20df8-2b4c-4014-b7da-7c92ec3890d9",
   "metadata": {},
   "source": [
    "### info regarding Consumer table"
   ]
  },
  {
   "cell_type": "code",
   "execution_count": 89,
   "id": "c07f06ff-d52b-4ae6-8b5b-ccd9d54fe3f1",
   "metadata": {},
   "outputs": [
    {
     "data": {
      "text/plain": [
       "CustomerID                            0\n",
       "Consumer complaint narrative    3575480\n",
       "Consumer consent provided?      1061775\n",
       "Consumer disputed?              4724211\n",
       "ZIP code                          30226\n",
       "dtype: int64"
      ]
     },
     "execution_count": 89,
     "metadata": {},
     "output_type": "execute_result"
    }
   ],
   "source": [
    "customer_data.isna().sum()"
   ]
  },
  {
   "cell_type": "markdown",
   "id": "6b523bf8-d065-4a2c-a409-7c68f511316e",
   "metadata": {},
   "source": [
    "All of this information is important so we cannot simply just remove it"
   ]
  },
  {
   "cell_type": "code",
   "execution_count": 103,
   "id": "6996d3e7-f877-450d-99a8-30b738db2aa3",
   "metadata": {
    "scrolled": true
   },
   "outputs": [
    {
     "name": "stdout",
     "output_type": "stream",
     "text": [
      "         CustomerID Consumer complaint narrative Consumer consent provided?  \\\n",
      "0                 0                          NaN                        NaN   \n",
      "1                 1                          NaN                        NaN   \n",
      "2                 2                          NaN                        NaN   \n",
      "3                 3                          NaN                        NaN   \n",
      "4                 4                          NaN                        NaN   \n",
      "...             ...                          ...                        ...   \n",
      "5492522     5492522                          NaN                        NaN   \n",
      "5492523     5492523                          NaN                        NaN   \n",
      "5492524     5492524                          NaN                        NaN   \n",
      "5492525     5492525                          NaN                        NaN   \n",
      "5492526     5492526                          NaN                        NaN   \n",
      "\n",
      "        Consumer disputed? ZIP code  Consumer complaint narrative_Encoded  \\\n",
      "0                      NaN    85142                                   NaN   \n",
      "1                      NaN    39759                                   NaN   \n",
      "2                      NaN    92376                                   NaN   \n",
      "3                      NaN    75051                                   NaN   \n",
      "4                      NaN    30265                                   NaN   \n",
      "...                    ...      ...                                   ...   \n",
      "5492522                 No    43318                                   NaN   \n",
      "5492523                 No    33436                                   NaN   \n",
      "5492524                 No    34280                                   NaN   \n",
      "5492525                 No    11433                                   NaN   \n",
      "5492526                Yes    80012                                   NaN   \n",
      "\n",
      "         Consumer consent provided?_Encoded  Consumer disputed?_Encoded  \\\n",
      "0                                       NaN                         NaN   \n",
      "1                                       NaN                         NaN   \n",
      "2                                       NaN                         NaN   \n",
      "3                                       NaN                         NaN   \n",
      "4                                       NaN                         NaN   \n",
      "...                                     ...                         ...   \n",
      "5492522                                 NaN                         0.0   \n",
      "5492523                                 NaN                         0.0   \n",
      "5492524                                 NaN                         0.0   \n",
      "5492525                                 NaN                         0.0   \n",
      "5492526                                 NaN                         1.0   \n",
      "\n",
      "         ZIP code_Encoded  \n",
      "0                 28892.0  \n",
      "1                 14858.0  \n",
      "2                 30732.0  \n",
      "3                 25538.0  \n",
      "4                 10646.0  \n",
      "...                   ...  \n",
      "5492522           15685.0  \n",
      "5492523           12234.0  \n",
      "5492524           12731.0  \n",
      "5492525            3661.0  \n",
      "5492526           27678.0  \n",
      "\n",
      "[5492527 rows x 9 columns]\n"
     ]
    }
   ],
   "source": [
    "from sklearn.preprocessing import LabelEncoder     \n",
    "\n",
    "# Create an instance of LabelEncoder\n",
    "le = LabelEncoder()\n",
    "\n",
    "# Loop through each column\n",
    "for col in customer_data.columns:\n",
    "    if customer_data[col].dtype == 'object':\n",
    "        # Separate non-NaN values and NaN values\n",
    "        df_not_null = customer_data[customer_data[col].notna()]\n",
    "        df_null = customer_data[customer_data[col].isna()]\n",
    "\n",
    "        # Fit and transform LabelEncoder on non-NaN values\n",
    "        encoded_values = le.fit_transform(df_not_null[col])\n",
    "        \n",
    "        # Create a Series with the same index as the original column\n",
    "        encoded_series = pd.Series(np.nan, index=customer_data.index)\n",
    "        encoded_series[customer_data[col].notna()] = encoded_values\n",
    "        \n",
    "        # Add the encoded values to the DataFrame\n",
    "        customer_data[col + '_Encoded'] = encoded_series\n",
    "# Display the updated DataFrame\n",
    "print(customer_data)"
   ]
  },
  {
   "cell_type": "code",
   "execution_count": 108,
   "id": "8de92268-9143-4df0-9baf-c650fff58e27",
   "metadata": {},
   "outputs": [],
   "source": [
    "from sklearn.experimental import enable_iterative_imputer\n",
    "from sklearn.impute import IterativeImputer\n",
    "\n",
    "df = customer_data[['Consumer complaint narrative_Encoded', 'Consumer consent provided?_Encoded', \"Consumer disputed?_Encoded\", \"ZIP code_Encoded\" ]]\n",
    "\n",
    "imputer = IterativeImputer()\n",
    "df_imputed = imputer.fit_transform(df)\n",
    "df_imputed = pd.DataFrame(df_imputed, columns=df.columns, index=df.index)\n"
   ]
  },
  {
   "cell_type": "code",
   "execution_count": 110,
   "id": "614e1e32-0f6e-4501-9aab-47c4c93b9eda",
   "metadata": {},
   "outputs": [
    {
     "data": {
      "text/plain": [
       "Consumer complaint narrative_Encoded    0\n",
       "Consumer consent provided?_Encoded      0\n",
       "Consumer disputed?_Encoded              0\n",
       "ZIP code_Encoded                        0\n",
       "dtype: int64"
      ]
     },
     "execution_count": 110,
     "metadata": {},
     "output_type": "execute_result"
    }
   ],
   "source": [
    "df_imputed.isna().sum()"
   ]
  },
  {
   "cell_type": "code",
   "execution_count": null,
   "id": "4f3b01ff-261f-4d05-b0e8-170a9ef0eb9b",
   "metadata": {},
   "outputs": [],
   "source": []
  },
  {
   "cell_type": "code",
   "execution_count": null,
   "id": "a750538e-c0f4-45a4-a031-8f6c724bcc4f",
   "metadata": {},
   "outputs": [],
   "source": [
    "# Perform KNN imputation in batches\n",
    "imputed_df = batch_knn_impute(df, batch_size=2, n_neighbors=5)\n",
    "\n",
    "# Display the imputed DataFrame\n",
    "print(imputed_df)\n"
   ]
  },
  {
   "cell_type": "code",
   "execution_count": null,
   "id": "c1e1bd35-ed74-41fe-8e96-a249c7a03e63",
   "metadata": {},
   "outputs": [],
   "source": []
  },
  {
   "cell_type": "code",
   "execution_count": 215,
   "id": "58d43182-41d7-47a3-9fbb-ddfb9bacf93c",
   "metadata": {
    "scrolled": true
   },
   "outputs": [
    {
     "data": {
      "text/plain": [
       "<BarContainer object of 3 artists>"
      ]
     },
     "execution_count": 215,
     "metadata": {},
     "output_type": "execute_result"
    },
    {
     "data": {
      "image/png": "[encoded data removed]",
      "text/plain": [
       "<Figure size 640x480 with 1 Axes>"
      ]
     },
     "metadata": {},
     "output_type": "display_data"
    }
   ],
   "source": [
    "plt.bar(customer_data['Consumer disputed?'].unique(), customer_data['Consumer disputed?'].value_counts())"
   ]
  },
  {
   "cell_type": "markdown",
   "id": "47d5c93e-6af7-4be5-bbd6-e9368bba5944",
   "metadata": {},
   "source": [
    "A lot of customers disputed, but there are a lot of missing values. In this context, it likely means that there was some error in the data collection process."
   ]
  }
 ],
 "metadata": {
  "kernelspec": {
   "display_name": "Python 3 (ipykernel)",
   "language": "python",
   "name": "python3"
  },
  "language_info": {
   "codemirror_mode": {
    "name": "ipython",
    "version": 3
   },
   "file_extension": ".py",
   "mimetype": "text/x-python",
   "name": "python",
   "nbconvert_exporter": "python",
   "pygments_lexer": "ipython3",
   "version": "3.9.13"
  }
 },
 "nbformat": 4,
 "nbformat_minor": 5
}
